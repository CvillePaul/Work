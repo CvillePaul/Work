{
 "cells": [
  {
   "cell_type": "code",
   "execution_count": 73,
   "id": "255a8082",
   "metadata": {},
   "outputs": [],
   "source": [
    "from itertools import accumulate\n",
    "import math\n",
    "from sqlite3 import Connection\n",
    "\n",
    "from astroquery.gaia import Gaia\n",
    "from astropy.coordinates import SkyCoord\n",
    "import astropy.units as u\n",
    "import matplotlib.pyplot as plt\n",
    "import numpy as np\n",
    "import pandas as pd"
   ]
  },
  {
   "cell_type": "code",
   "execution_count": 115,
   "id": "3e103fd5",
   "metadata": {},
   "outputs": [
    {
     "name": "stdout",
     "output_type": "stream",
     "text": [
      "INFO: Query finished. [astroquery.utils.tap.core]\n"
     ]
    },
    {
     "data": {
      "text/plain": [
       "<SkyCoord (ICRS): (ra, dec) in deg\n",
       "    (147.61454167, -36.19191667)>"
      ]
     },
     "execution_count": 115,
     "metadata": {},
     "output_type": "execute_result"
    }
   ],
   "source": [
    "target = pd.read_sql(\"select ra, dec from targets where target_name = 'TIC 45160946';\", Connection(\"../../Data/astropaul.db\"))\n",
    "target_coord = SkyCoord(ra=target[\"ra\"], dec=target[\"dec\"], unit=(u.deg, u.deg), frame=\"icrs\")[0]\n",
    "radius = 0.1 * u.deg # cone search radius\n",
    "job = Gaia.cone_search_async(target_coord, radius=radius)\n",
    "results = job.get_results()\n",
    "target_coord\n"
   ]
  },
  {
   "cell_type": "code",
   "execution_count": 113,
   "id": "7bb128d5",
   "metadata": {},
   "outputs": [
    {
     "data": {
      "text/plain": [
       "np.float64(-0.8648407085478746)"
      ]
     },
     "execution_count": 113,
     "metadata": {},
     "output_type": "execute_result"
    },
    {
     "data": {
      "image/png": "[encoded data removed]",
      "text/plain": [
       "<Figure size 640x480 with 1 Axes>"
      ]
     },
     "metadata": {},
     "output_type": "display_data"
    }
   ],
   "source": [
    "result_coords = SkyCoord(ra=results[\"ra\"], dec=results[\"dec\"])\n",
    "separations = result_coords.separation(target_coord).to(u.arcsec).value\n",
    "separations = sorted(separations)[1:] # assume the smallest separation is the DR3 entry for this TIC\n",
    "plt.xscale(\"log\")\n",
    "plt.yscale(\"log\")\n",
    "plt.hist(separations, bins=np.logspace(-1, 1.5), cumulative=True)\n",
    "hist, bins = np.histogram(separations, bins=np.logspace(-1, 1.5))\n",
    "cum_hist = list(accumulate(hist))\n",
    "mid_bins = [math.sqrt(a * b) for a, b in zip(bins, bins[1:])]\n",
    "last_y = 0\n",
    "x_vals, y_vals = [], []\n",
    "for x, y in zip(bins, cum_hist):\n",
    "    if y != last_y:\n",
    "        x_vals.append(x)\n",
    "        y_vals.append(y)\n",
    "    last_y = y\n",
    "\n",
    "m, b = np.polyfit(x_vals, y_vals, deg=1)\n",
    "num_possible_contaminants = m * 0.18 + b\n",
    "\n",
    "# plt.plot(mid_bins, cum_hist, marker=\"o\", linewidth=0)\n",
    "plt.scatter(x_vals, y_vals, color=\"brown\")\n",
    "plt.plot(bins, bins * m + b, linewidth=1)\n",
    "\n",
    "num_possible_contaminants\n"
   ]
  }
 ],
 "metadata": {
  "kernelspec": {
   "display_name": "Python 3",
   "language": "python",
   "name": "python3"
  },
  "language_info": {
   "codemirror_mode": {
    "name": "ipython",
    "version": 3
   },
   "file_extension": ".py",
   "mimetype": "text/x-python",
   "name": "python",
   "nbconvert_exporter": "python",
   "pygments_lexer": "ipython3",
   "version": "3.12.6"
  }
 },
 "nbformat": 4,
 "nbformat_minor": 5
}
