{
 "cells": [
  {
   "cell_type": "code",
   "execution_count": 52,
   "metadata": {},
   "outputs": [
    {
     "name": "stdout",
     "output_type": "stream",
     "text": [
      "The autoreload extension is already loaded. To reload it, use:\n",
      "  %reload_ext autoreload\n"
     ]
    }
   ],
   "source": [
    "from functools import partial\n",
    "\n",
    "from astropaul.database import database_connection\n",
    "import astropaul.html as html\n",
    "import astropaul.lbt as lbt\n",
    "import astropaul.phase as ph\n",
    "import astropaul.targetlistcreator as tlc\n",
    "\n",
    "%load_ext autoreload\n",
    "%autoreload 2\n",
    "\n",
    "import warnings\n",
    "\n",
    "warnings.simplefilter('always')  # Show all warnings\n",
    "warnings.showwarning = warnings._showwarnmsg_impl  # Use default formatting with stack trace\n"
   ]
  },
  {
   "cell_type": "code",
   "execution_count": 54,
   "metadata": {},
   "outputs": [],
   "source": [
    "with database_connection() as conn:\n",
    "    phase_event_defs = [\n",
    "        ph.PhaseEventDef(\"T\", partial(ph.calc_time_of_phase, phase=0.0)),\n",
    "        ph.PhaseEventDef(\"B\", partial(ph.calc_time_of_phase, phase=0.05)),\n",
    "        ph.PhaseEventDef(\"R\", partial(ph.calc_time_of_phase, phase=0.18)),\n",
    "        ph.PhaseEventDef(\"B\", partial(ph.calc_time_of_phase, phase=0.32)),\n",
    "        ph.PhaseEventDef(\"T\", partial(ph.calc_time_of_phase, phase=0.45)),\n",
    "        ph.PhaseEventDef(\"B\", partial(ph.calc_time_of_phase, phase=0.55)),\n",
    "        ph.PhaseEventDef(\"R\", partial(ph.calc_time_of_phase, phase=0.68)),\n",
    "        ph.PhaseEventDef(\"B\", partial(ph.calc_time_of_phase, phase=0.82)),\n",
    "        ph.PhaseEventDef(\"T\", partial(ph.calc_time_of_phase, phase=0.95)),\n",
    "    ]\n",
    "\n",
    "    name = \"All Targets\"\n",
    "    creator = tlc.TargetListCreator(name=name, connection=conn, phase_event_defs=phase_event_defs)\n",
    "    creator.steps = [\n",
    "        tlc.add_targets,\n",
    "        # partial(tlc.filter_targets, criteria=lambda df: df[\"Target Name\"] == \"TIC 270920077\"),\n",
    "        tlc.ancillary_data_from_tess,\n",
    "        tlc.add_tess_catalog_associations,\n",
    "        tlc.add_lists,\n",
    "        partial(tlc.add_database_table, table_name=\"ephemerides\"),\n",
    "        partial(tlc.add_database_table, table_name=\"dssi_observations\"),\n",
    "        partial(tlc.add_database_table, table_name=\"speckle_detections\"),\n",
    "        partial(tlc.add_database_table, table_name=\"pepsi_observations\"),\n",
    "        tlc.add_pepsi_evaluations,\n",
    "        tlc.add_rv_status,\n",
    "        partial(\n",
    "            tlc.add_system_configuration,\n",
    "            table_name=\"DSSI Observations\",\n",
    "            time_column=\"Mid JD\",\n",
    "            eclipse_table=\"SIDE Observations\",\n",
    "        ),\n",
    "        partial(tlc.add_system_configuration, table_name=\"PEPSI Observations\", time_column=\"Mid JD\"),\n",
    "        partial(tlc.add_database_table, table_name=\"zorroalopeke_observations\"),\n",
    "    ]\n",
    "    tl = creator.calculate(verbose=False)\n",
    "    html.render_observing_pages(tl, None, {}, \"../../Observing Files/All Targets\")"
   ]
  }
 ],
 "metadata": {
  "kernelspec": {
   "display_name": "Python 3",
   "language": "python",
   "name": "python3"
  },
  "language_info": {
   "codemirror_mode": {
    "name": "ipython",
    "version": 3
   },
   "file_extension": ".py",
   "mimetype": "text/x-python",
   "name": "python",
   "nbconvert_exporter": "python",
   "pygments_lexer": "ipython3",
   "version": "3.12.6"
  }
 },
 "nbformat": 4,
 "nbformat_minor": 2
}
