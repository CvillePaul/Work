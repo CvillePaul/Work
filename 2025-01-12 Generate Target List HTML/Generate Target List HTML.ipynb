{
 "cells": [
  {
   "cell_type": "code",
   "execution_count": 42,
   "metadata": {},
   "outputs": [
    {
     "name": "stdout",
     "output_type": "stream",
     "text": [
      "The autoreload extension is already loaded. To reload it, use:\n",
      "  %reload_ext autoreload\n"
     ]
    }
   ],
   "source": [
    "from functools import partial\n",
    "from sqlite3 import connect\n",
    "\n",
    "# import astroplan as ap\n",
    "# from astropy.coordinates import EarthLocation\n",
    "# from astropy.table import Table\n",
    "# from astropy.time import Time\n",
    "# import astropy.units as u\n",
    "# from icecream import ic, install\n",
    "# import numpy as np\n",
    "import pandas as pd\n",
    "\n",
    "import astropaul.targetlistcreator as tlc\n",
    "import astropaul.lbt as lbt\n",
    "import astropaul.html as html\n",
    "import astropaul.phase as ph\n",
    "# import astropaul.priority as pr\n",
    "\n",
    "# install() # icecream will now work in imported packages\n",
    "\n",
    "%load_ext autoreload\n",
    "%autoreload 2\n"
   ]
  },
  {
   "cell_type": "code",
   "execution_count": 46,
   "metadata": {},
   "outputs": [],
   "source": [
    "conn = connect(\"../../Data/astropaul.db\")\n",
    "\n",
    "phase_event_defs = [\n",
    "    ph.PhaseEventDef(\"Not in Eclipse\", partial(ph.calc_time_of_gress, ingress=False)),\n",
    "    ph.PhaseEventDef(\"Eclipse\", partial(ph.calc_time_of_gress, ingress=True)),\n",
    "]\n",
    "\n",
    "name = \"All Targets\"\n",
    "creator = tlc.TargetListCreator(name=name, connection=conn, phase_event_defs=phase_event_defs)\n",
    "creator.steps = [\n",
    "    tlc.add_targets,\n",
    "    tlc.ancillary_data_from_tess,\n",
    "    lbt.add_rv_calibration_targets,\n",
    "    tlc.add_catalogs,\n",
    "    tlc.add_lists,\n",
    "    partial(tlc.add_database_table, table_name=\"ephemerides\"),\n",
    "    partial(tlc.add_database_table, table_name=\"dssi_observations\"),\n",
    "    partial(tlc.add_database_table, table_name=\"speckle_detections\"),\n",
    "    partial(tlc.add_database_table, table_name=\"pepsi_observations\"),\n",
    "    partial(\n",
    "        tlc.add_system_configuration, table_name=\"DSSI Observations\", time_column=\"Mid JD\", eclipse_table=\"SIDE Observations\"\n",
    "    ),\n",
    "    partial(tlc.add_system_configuration, table_name=\"PEPSI Observations\", time_column=\"Mid JD\"),\n",
    "]\n",
    "tl = creator.calculate(verbose=False)\n",
    "html.render_observing_pages(tl, None, {}, \"../../Observing Files/All Targets\")\n",
    "conn.close()"
   ]
  }
 ],
 "metadata": {
  "kernelspec": {
   "display_name": "Python 3",
   "language": "python",
   "name": "python3"
  },
  "language_info": {
   "codemirror_mode": {
    "name": "ipython",
    "version": 3
   },
   "file_extension": ".py",
   "mimetype": "text/x-python",
   "name": "python",
   "nbconvert_exporter": "python",
   "pygments_lexer": "ipython3",
   "version": "3.12.6"
  }
 },
 "nbformat": 4,
 "nbformat_minor": 2
}
