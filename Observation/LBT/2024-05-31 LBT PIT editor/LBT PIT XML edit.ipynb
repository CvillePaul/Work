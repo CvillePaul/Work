{
 "cells": [
  {
   "cell_type": "markdown",
   "metadata": {},
   "source": [
    "# LBT PIT XML Editor\n",
    "The LBT PIT proposal tool allows you to load targets from a csv file, but requires you to input manually the observing time for those targets.  This code takes the XML file the PIT tool creates and edits it to add to the XML file the observing times that are present, but unused, in the target csv files.\n",
    "\n",
    "This code was copied from the Gemini PIT XML editor, the main difference being that proposal was for speckle observing and needed exposure times for two different seeing conditions, whereas this proposal is for spectrometry and only requires one exposure time.\n",
    "\n",
    "Another difference is that this code creates a `<time>` node for each `<observation>` whereas the Gemini version finds an existing `<time>` node and edits its value."
   ]
  },
  {
   "cell_type": "code",
   "execution_count": 2,
   "metadata": {},
   "outputs": [],
   "source": [
    "from pathlib import Path\n",
    "\n",
    "import xml.etree.ElementTree as ET\n",
    "import pandas as pd"
   ]
  },
  {
   "cell_type": "code",
   "execution_count": null,
   "metadata": {},
   "outputs": [],
   "source": [
    "base_dir = Path(\"../2025-05-28 LBT 2025B Proposal\")\n",
    "filename = base_dir / \"LBT 2025B Proposal template\"\n",
    "target_file = base_dir / \"LBT 2025B Proposal Targets.csv\"\n",
    "\n",
    "# first, get observation times for all targets\n",
    "target_list = pd.read_csv(target_file)\n",
    "exposure_times = target_list.set_index(\"Name\")[\"pepsi_exposure_time\"].to_dict()\n",
    "\n",
    "# next, get the mapping of the nickname used in xml file to the TIC name\n",
    "tree = ET.parse(f\"{filename}.xml\")\n",
    "root = tree.getroot()\n",
    "target_map = {}\n",
    "for target in root.findall(\"targets/sidereal\"):\n",
    "    designator = target.attrib[\"id\"]\n",
    "    name = target.find(\"name\").text\n",
    "    target_map[name] = designator\n",
    "\n",
    "# finally, walk through each observation entry and add observing times to it\n",
    "observations = root.find(\"observations\")\n",
    "for target_name in target_map.keys():\n",
    "    observation = ET.SubElement(observations, \"observation\")\n",
    "    observation.attrib = {\"band\": \"Band 1\", \"enabled\": \"true\", \"target\": target_map[target_name], \"condition\": \"condition-0\", \"blueprint\": \"blueprint-0\"}\n",
    "    meta = ET.SubElement(observation, \"meta\")\n",
    "    meta.attrib = {\"ck\": \"\"}\n",
    "    visibility = ET.SubElement(meta, \"visibility\")\n",
    "    visibility.text = \"Good\"\n",
    "    aorefstars = ET.SubElement(meta, \"aorefstars\")\n",
    "    aorefstars.text = \"0\"\n",
    "    time_element = ET.SubElement(observation, \"time\")\n",
    "    time_element.attrib = {\"units\": \"hr\", \"bino\": \"false\", \"too\": \"None\", \"Run\": \"\"}\n",
    "    time_element.text = f\"{exposure_times[target_name] / 3600:.3f}\"\n",
    "    tree.write(f\"{filename}_times.xml\")\n"
   ]
  }
 ],
 "metadata": {
  "kernelspec": {
   "display_name": "Python 3",
   "language": "python",
   "name": "python3"
  },
  "language_info": {
   "codemirror_mode": {
    "name": "ipython",
    "version": 3
   },
   "file_extension": ".py",
   "mimetype": "text/x-python",
   "name": "python",
   "nbconvert_exporter": "python",
   "pygments_lexer": "ipython3",
   "version": "3.12.6"
  }
 },
 "nbformat": 4,
 "nbformat_minor": 2
}
