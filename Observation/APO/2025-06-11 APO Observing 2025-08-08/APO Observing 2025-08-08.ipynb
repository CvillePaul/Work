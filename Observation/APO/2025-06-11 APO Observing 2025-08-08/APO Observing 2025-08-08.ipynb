{
 "cells": [
  {
   "cell_type": "code",
   "execution_count": 2,
   "metadata": {},
   "outputs": [],
   "source": [
    "from functools import partial\n",
    "from sqlite3 import connect\n",
    "\n",
    "import astroplan as ap\n",
    "import astropy.units as u\n",
    "from icecream import ic, install\n",
    "\n",
    "import astropaul.targetlistcreator as tlc\n",
    "import astropaul.html as html\n",
    "import astropaul.phase as ph\n",
    "import astropaul.priority as pr\n",
    "\n",
    "install() # icecream will now work in imported packages\n",
    "\n",
    "%load_ext autoreload\n",
    "%autoreload 2\n"
   ]
  },
  {
   "cell_type": "code",
   "execution_count": 11,
   "metadata": {},
   "outputs": [
    {
     "data": {
      "text/latex": [
       "$\\mathrm{mag}$"
      ],
      "text/plain": [
       "Unit(\"mag\")"
      ]
     },
     "execution_count": 11,
     "metadata": {},
     "output_type": "execute_result"
    }
   ],
   "source": [
    "from astropy.coordinates import SkyCoord\n",
    "import astropy.units as u \n",
    "\n",
    "coords = [\n",
    "    \"14:23:15.28 +01:14:29.60\",\n",
    "    \"16:04:56.79 +39:09:23.40\",\n",
    "    \"17:05:16.82 +00:42:09.20\",\n",
    "    \"19:35:00.36 +29:05:14.10\",\n",
    "    \"19:51:01.64 +10:24:56.60\",\n",
    "    \"23:39:57.04 +05:37:34.70\",\n",
    "]\n",
    "SkyCoord(coords, unit=(u.hourangle, u.deg)).to_table()\n",
    "\n",
    "u.Unit(\"mag\")"
   ]
  },
  {
   "cell_type": "code",
   "execution_count": 7,
   "metadata": {},
   "outputs": [
    {
     "name": "stderr",
     "output_type": "stream",
     "text": [
      "WARNING: NonRotationTransformationWarning: transforming other coordinates from <ICRS Frame> to <GCRS Frame (obstime=2460895.577654087, obsgeoloc=(-2786028.63692212, -4585484.74328348, 3442124.41486956) m, obsgeovel=(334.38684959, -203.78625083, -0.82722324) m / s)>. Angular separation can depend on the direction of the transformation. [astropy.coordinates.baseframe]\n",
      "WARNING: NonRotationTransformationWarning: transforming other coordinates from <ICRS Frame> to <GCRS Frame (obstime=2460896.576994688, obsgeoloc=(-2725959.44669034, -4621555.68707007, 3441978.28441534) m, obsgeovel=(337.0172601, -199.40601166, -0.83399809) m / s)>. Angular separation can depend on the direction of the transformation. [astropy.coordinates.baseframe]\n",
      "WARNING: NonRotationTransformationWarning: transforming other coordinates from <ICRS Frame> to <GCRS Frame (obstime=2460897.576321803, obsgeoloc=(-2665820.85103968, -4656612.52060113, 3441831.69362182) m, obsgeovel=(339.57372374, -195.02068456, -0.84055485) m / s)>. Angular separation can depend on the direction of the transformation. [astropy.coordinates.baseframe]\n",
      "WARNING: NonRotationTransformationWarning: transforming other coordinates from <ICRS Frame> to <GCRS Frame (obstime=2460899.5749367904, obsgeoloc=(-2545374.98011977, -4723742.25011639, 3441536.24841036) m, obsgeovel=(344.46900759, -186.23765778, -0.85307812) m / s)>. Angular separation can depend on the direction of the transformation. [astropy.coordinates.baseframe]\n",
      "WARNING: NonRotationTransformationWarning: transforming other coordinates from <ICRS Frame> to <GCRS Frame (obstime=2460900.5742252767, obsgeoloc=(-2485085.40418526, -4755843.85622908, 3441387.23963902) m, obsgeovel=(346.80989893, -181.84126934, -0.85909128) m / s)>. Angular separation can depend on the direction of the transformation. [astropy.coordinates.baseframe]\n"
     ]
    },
    {
     "name": "stdout",
     "output_type": "stream",
     "text": [
      "Name: APO Observing List 2025-08-08 to -13\n",
      "Criteria\n",
      "    lambda df: df[\"Target Type\"].isin([\"QuadEB\", \"SextEB\"])\n",
      "    lambda df: df[\"Vmag\"] < 13\n",
      "    AltitudeConstraint: {'min': np.float64(35.0), 'max': np.float64(80.0), 'boolean_constraint': True}\n",
      "    lambda df: df[\"Observable Any Night\"]\n",
      "    lambda df: df[\"Num Speckle Detections\"] > 0\n",
      "24 targets:\n",
      "      24 QuadEB\n",
      "Column Count (primary, secondary):\n",
      "    Target: (3, 4)\n",
      "    TESS Data: (2, 4)\n",
      "    Observable: (5, 20)\n",
      "    Count: (4, 0)\n",
      "Associated tables:\n",
      "       5 rows,  2 columns: Lunar Phases\n",
      "     181 rows,  7 columns: Ephemerides\n",
      "     130 rows, 12 columns: DSSI Observations\n",
      "      45 rows,  6 columns: SIDE Observations\n",
      "      78 rows, 11 columns: Speckle Detections\n",
      "     464 rows, 10 columns: Phase Events\n",
      "\n"
     ]
    }
   ],
   "source": [
    "conn = connect(\"../../../../Data/astropaul.db\")\n",
    "\n",
    "session = tlc.ObservingSession(ap.Observer.at_site(\"APO\"))\n",
    "session.add_full_day(\"2025-08-08\")\n",
    "session.add_full_day(\"2025-08-09\")\n",
    "session.add_half_day(\"2025-08-10\", first_half=True)\n",
    "session.add_full_day(\"2025-08-12\")\n",
    "session.add_full_day(\"2025-08-13\")\n",
    "\n",
    "synthetic_phase_percent = 0.02\n",
    "\n",
    "phase_event_defs = [\n",
    "    ph.PhaseEventDef(\"Mid Eclipse\", ph.calc_mid_eclipse),\n",
    "    ph.PhaseEventDef(\"Eclipse\", ph.calc_mid_eclipse),\n",
    "    ph.PhaseEventDef(\n",
    "        \"Not in Eclipse\", partial(ph.calc_time_of_gress, synthetic_phase_percent=synthetic_phase_percent, ingress=False)\n",
    "    ),\n",
    "    ph.PhaseEventDef(\"Eclipse\", partial(ph.calc_time_of_gress, synthetic_phase_percent=synthetic_phase_percent, ingress=True)),\n",
    "]\n",
    "\n",
    "min_altitude = 35 * u.deg\n",
    "max_magnitude = 13\n",
    "\n",
    "name = \"APO Observing List 2025-08-08 to -13\"\n",
    "creator = tlc.TargetListCreator(name=name, connection=conn)\n",
    "creator.steps = [\n",
    "    tlc.add_targets,\n",
    "    partial(tlc.filter_targets, criteria=lambda df: df[\"Target Type\"].isin([\"QuadEB\", \"SextEB\"])),\n",
    "    # partial(tlc.filter_targets, criteria=lambda df: df[\"Target Name\"].isin([\"TIC 367448265\", \"TIC 470710327\"])),\n",
    "    tlc.ancillary_data_from_tess,\n",
    "    partial(tlc.filter_targets, criteria=lambda df: df[\"Vmag\"] < max_magnitude),\n",
    "    partial(\n",
    "        tlc.add_observability,\n",
    "        observing_session=session,\n",
    "        calc_moon_distance=True,\n",
    "        observability_threshold=(min_altitude, 80 * u.deg),\n",
    "    ),\n",
    "    partial(tlc.filter_targets, criteria=lambda df: df[\"Observable Any Night\"]),\n",
    "    partial(tlc.add_database_table, table_name=\"ephemerides\"),\n",
    "    partial(tlc.add_database_table, table_name=\"dssi_observations\"),\n",
    "    partial(\n",
    "        tlc.add_system_configuration, table_name=\"DSSI Observations\", time_column=\"Mid JD\", eclipse_table=\"SIDE Observations\"\n",
    "    ),\n",
    "    partial(tlc.add_database_table, table_name=\"speckle_detections\"),\n",
    "    partial(tlc.filter_targets, criteria=lambda df: df[\"Num Speckle Detections\"] > 0),\n",
    "    # partial(tlc.filter_other_list, list_name=\"Speckle Detections\", criteria=lambda df: df[\"Separation\"] < 0.1 * u.arcsec),\n",
    "    partial(\n",
    "        tlc.add_phase_events,\n",
    "        observing_session=session,\n",
    "        phase_event_defs=phase_event_defs,\n",
    "        event_types=[\"Mid Eclipse\", \"Eclipse\"],\n",
    "    ),\n",
    "]\n",
    "tl = creator.calculate(verbose=False)\n",
    "# html.render_observing_pages(tl, None, {}, \"html\")\n",
    "\n",
    "print(tl.summarize())\n",
    "# tl.target_list"
   ]
  },
  {
   "cell_type": "code",
   "execution_count": 8,
   "metadata": {},
   "outputs": [],
   "source": [
    "altitude_categories = [\n",
    "    ((-90, min_altitude.value), 0),\n",
    "    ((min_altitude.value, 90), 1),\n",
    "]\n",
    "\n",
    "pl = pr.PriorityList(tl, session, interval=30 * u.min)\n",
    "pr.calculate_altitude_priority(pl, altitude_categories=altitude_categories)\n",
    "# pr.prioritize_phase_sequence(pl, [\"Eclipse\", \"Mid Eclipse\", \"Eclipse\"], \"Eclipse\", False, False, entirely_observable=True)\n",
    "pr.prioritize_phase_sequence(pl, [\"Eclipse\"], \"Eclipse\", True, True, entirely_observable=False)\n",
    "pr.prioritize_side_observation(pl, side_state=\"Eclipse\")\n",
    "pr.calculate_overall_priority(pl)\n",
    "pr.aggregate_target_priorities(pl, skip_column_threshold=0.0)\n",
    "pl.categorize_priorities(bins=[0.00, 0.20, 0.40, 0.6, 1.00], labels=[\"\", \"*\", \"* *\", \"* * *\"])\n",
    "\n",
    "html.render_observing_pages(tl, pl, {}, \"../../../../Observing Files/APO Observing 2025-08-08\")\n",
    "# pl.numerical_priorities[0]"
   ]
  }
 ],
 "metadata": {
  "kernelspec": {
   "display_name": "Python 3",
   "language": "python",
   "name": "python3"
  },
  "language_info": {
   "codemirror_mode": {
    "name": "ipython",
    "version": 3
   },
   "file_extension": ".py",
   "mimetype": "text/x-python",
   "name": "python",
   "nbconvert_exporter": "python",
   "pygments_lexer": "ipython3",
   "version": "3.12.6"
  }
 },
 "nbformat": 4,
 "nbformat_minor": 2
}
