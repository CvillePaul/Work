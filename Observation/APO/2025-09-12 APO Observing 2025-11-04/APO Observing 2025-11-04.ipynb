{
 "cells": [
  {
   "cell_type": "code",
   "execution_count": 2,
   "metadata": {},
   "outputs": [],
   "source": [
    "from functools import partial\n",
    "from sqlite3 import connect\n",
    "\n",
    "import astroplan as ap\n",
    "from astropy.coordinates import EarthLocation\n",
    "import astropy.units as u\n",
    "# from icecream import ic, install\n",
    "\n",
    "from astropaul.database import database_connection\n",
    "import astropaul.targetlistcreator as tlc\n",
    "import astropaul.html as html\n",
    "import astropaul.phase as ph\n",
    "import astropaul.priority as pr\n",
    "\n",
    "# install() # icecream will now work in imported packages\n",
    "\n",
    "%load_ext autoreload\n",
    "%autoreload 2\n"
   ]
  },
  {
   "cell_type": "code",
   "execution_count": 3,
   "metadata": {},
   "outputs": [
    {
     "name": "stderr",
     "output_type": "stream",
     "text": [
      "WARNING: NonRotationTransformationWarning: transforming other coordinates from <ICRS Frame> to <GCRS Frame (obstime=2460983.50417265, obsgeoloc=(2599688.05043494, -4703503.55712449, 3428632.77599393) m, obsgeovel=(342.99286199, 188.94262168, -0.86977863) m / s)>. Angular separation can depend on the direction of the transformation. [astropy.coordinates.baseframe]\n",
      "WARNING: NonRotationTransformationWarning: transforming other coordinates from <ICRS Frame> to <GCRS Frame (obstime=2460984.5035859398, obsgeoloc=(2662975.57061411, -4668083.20951975, 3428470.01494676) m, obsgeovel=(340.40988207, 193.55759153, -0.86343379) m / s)>. Angular separation can depend on the direction of the transformation. [astropy.coordinates.baseframe]\n",
      "WARNING: NonRotationTransformationWarning: transforming other coordinates from <ICRS Frame> to <GCRS Frame (obstime=2460985.5030154064, obsgeoloc=(2726251.63947055, -4631534.56704273, 3428306.56981683) m, obsgeovel=(337.74461125, 198.1716887, -0.85691686) m / s)>. Angular separation can depend on the direction of the transformation. [astropy.coordinates.baseframe]\n"
     ]
    },
    {
     "name": "stdout",
     "output_type": "stream",
     "text": [
      "Name: APO Observing 2025-11-04\n",
      "Criteria\n",
      "    lambda df: df[\"Target Type\"].isin([\"QuadEB\", \"SextEB\"])\n",
      "    lambda df: df[\"Vmag\"] < 13\n",
      "    AltitudeConstraint: {'min': 35.0, 'max': 80.0, 'boolean_constraint': True}\n",
      "    lambda df: df[\"Observable Any Night\"]\n",
      "97 targets:\n",
      "      93 QuadEB\n",
      "       4 SextEB\n",
      "Column Count (primary, secondary):\n",
      "    Target: (3, 4)\n",
      "    TESS Data: (2, 123)\n",
      "    Observable: (5, 12)\n",
      "    Count: (5, 0)\n",
      "Associated tables:\n",
      "       3 rows,  2 columns: Lunar Phases\n",
      "     273 rows,  7 columns: Ephemerides\n",
      "     153 rows, 12 columns: DSSI Observations\n",
      "      40 rows,  6 columns: SIDE Observations\n",
      "     130 rows, 11 columns: Speckle Detections\n",
      "     589 rows, 10 columns: Phase Events\n",
      "     176 rows, 14 columns: PEPSI Observations\n",
      "\n"
     ]
    }
   ],
   "source": [
    "html_dir = \"../../../../Observing Files/APO Observing 2025-11-04\"\n",
    "html.clear_directory(html_dir)\n",
    "session = tlc.ObservingSession(ap.Observer.at_site(\"APO\"))\n",
    "\n",
    "session.add_full_day(\"2025-11-04\")\n",
    "session.add_full_day(\"2025-11-05\")\n",
    "session.add_half_day(\"2025-11-06\", first_half=True)\n",
    "\n",
    "synthetic_phase_percent = 0.02\n",
    "\n",
    "phase_event_defs = [\n",
    "    ph.PhaseEventDef(\"Mid Eclipse\", ph.calc_mid_eclipse),\n",
    "    ph.PhaseEventDef(\"Eclipse\", ph.calc_mid_eclipse),\n",
    "    ph.PhaseEventDef(\n",
    "        \"Not in Eclipse\", partial(ph.calc_time_of_gress, synthetic_phase_percent=synthetic_phase_percent, ingress=False)\n",
    "    ),\n",
    "    ph.PhaseEventDef(\"Eclipse\", partial(ph.calc_time_of_gress, synthetic_phase_percent=synthetic_phase_percent, ingress=True)),\n",
    "]\n",
    "\n",
    "min_altitude = 35 * u.deg\n",
    "max_magnitude = 13\n",
    "\n",
    "with database_connection() as conn:\n",
    "    name = \"APO Observing 2025-11-04\"\n",
    "    creator = tlc.TargetListCreator(name=name, connection=conn, phase_event_defs=phase_event_defs)\n",
    "    creator.steps = [\n",
    "        tlc.add_targets,\n",
    "        partial(tlc.filter_targets, criteria=lambda df: df[\"Target Type\"].isin([\"QuadEB\", \"SextEB\"])),\n",
    "        tlc.ancillary_data_from_tess,\n",
    "        partial(tlc.filter_targets, criteria=lambda df: df[\"Vmag\"] < max_magnitude),\n",
    "        partial(\n",
    "            tlc.add_observability,\n",
    "            observing_session=session,\n",
    "            calc_moon_distance=True,\n",
    "            observability_threshold=(min_altitude, 80 * u.deg),\n",
    "        ),\n",
    "        partial(tlc.filter_targets, criteria=lambda df: df[\"Observable Any Night\"]),\n",
    "        partial(tlc.add_database_table, table_name=\"ephemerides\"),\n",
    "        partial(tlc.add_database_table, table_name=\"dssi_observations\"),\n",
    "        partial(\n",
    "            tlc.add_system_configuration, table_name=\"DSSI Observations\", time_column=\"Mid JD\", eclipse_table=\"SIDE Observations\"\n",
    "        ),\n",
    "        partial(tlc.add_database_table, table_name=\"speckle_detections\"),\n",
    "        partial(\n",
    "            tlc.add_phase_events,\n",
    "            observing_session=session,\n",
    "            phase_event_defs=phase_event_defs,\n",
    "            event_types=[\"Mid Eclipse\", \"Eclipse\"],\n",
    "        ),\n",
    "        partial(tlc.add_database_table, table_name=\"pepsi_observations\"),\n",
    "        tlc.add_pepsi_evaluations,\n",
    "    ]\n",
    "    tl = creator.calculate(verbose=False)\n",
    "\n",
    "# html.render_observing_pages(tl, None, {}, html_dir)\n",
    "print(tl.summarize())"
   ]
  },
  {
   "cell_type": "code",
   "execution_count": 14,
   "metadata": {},
   "outputs": [],
   "source": [
    "html.clear_directory(html_dir)\n",
    "\n",
    "altitude_categories = [\n",
    "    ((-90, min_altitude.value), 0),\n",
    "    ((min_altitude.value, 90), 1),\n",
    "]\n",
    "\n",
    "pl = pr.PriorityList(tl, session, interval=30 * u.min)\n",
    "pr.calculate_altitude_priority(pl, altitude_categories=altitude_categories)\n",
    "pr.prioritize_phase_sequence(pl, [\"Eclipse\"], \"Eclipse\", True, True, True)\n",
    "# pr.prioritize_side_observation(pl, side_state=\"Eclipse\")\n",
    "pr.calculate_overall_priority(pl)\n",
    "pr.aggregate_target_priorities(pl, skip_column_threshold=0.0)\n",
    "pl.categorize_priorities(bins=[0.00, 0.20, 0.40, 0.6, 1.00], labels=[\"\", \"*\", \"* *\", \"* * *\"])\n",
    "\n",
    "html.render_observing_pages(tl, pl, {}, html_dir)\n",
    "# pl.categorical_priorities[0]"
   ]
  }
 ],
 "metadata": {
  "kernelspec": {
   "display_name": "Python 3",
   "language": "python",
   "name": "python3"
  },
  "language_info": {
   "codemirror_mode": {
    "name": "ipython",
    "version": 3
   },
   "file_extension": ".py",
   "mimetype": "text/x-python",
   "name": "python",
   "nbconvert_exporter": "python",
   "pygments_lexer": "ipython3",
   "version": "3.12.6"
  }
 },
 "nbformat": 4,
 "nbformat_minor": 2
}
