{
 "cells": [
  {
   "cell_type": "code",
   "execution_count": 70,
   "metadata": {},
   "outputs": [
    {
     "name": "stdout",
     "output_type": "stream",
     "text": [
      "The autoreload extension is already loaded. To reload it, use:\n",
      "  %reload_ext autoreload\n"
     ]
    }
   ],
   "source": [
    "from functools import partial\n",
    "from sqlite3 import connect\n",
    "\n",
    "import astroplan as ap\n",
    "import astropy.units as u\n",
    "from icecream import ic, install\n",
    "\n",
    "import astropaul.targetlistcreator as tlc\n",
    "import astropaul.html as html\n",
    "import astropaul.phase as ph\n",
    "import astropaul.priority as pr\n",
    "\n",
    "install() # icecream will now work in imported packages\n",
    "\n",
    "%load_ext autoreload\n",
    "%autoreload 2\n"
   ]
  },
  {
   "cell_type": "code",
   "execution_count": 171,
   "metadata": {},
   "outputs": [
    {
     "name": "stderr",
     "output_type": "stream",
     "text": [
      "WARNING: NonRotationTransformationWarning: transforming other coordinates from <ICRS Frame> to <GCRS Frame (obstime=2460833.5866880515, obsgeoloc=(-5361041.78980415, -74256.80236732, 3448269.60073492) m, obsgeovel=(5.42357995, -391.55411444, 0.00013986) m / s)>. Angular separation can depend on the direction of the transformation. [astropy.coordinates.baseframe]\n",
      "WARNING: NonRotationTransformationWarning: transforming other coordinates from <ICRS Frame> to <GCRS Frame (obstime=2460834.587019435, obsgeoloc=(-5358607.24398113, -177816.38128441, 3448268.56891639) m, obsgeovel=(12.97517594, -391.37665289, -0.01864946) m / s)>. Angular separation can depend on the direction of the transformation. [astropy.coordinates.baseframe]\n",
      "WARNING: NonRotationTransformationWarning: transforming other coordinates from <ICRS Frame> to <GCRS Frame (obstime=2460836.5876520714, obsgeoloc=(-5347820.67988444, -383681.78630334, 3448252.98473535) m, obsgeovel=(27.98694662, -390.59028169, -0.05602985) m / s)>. Angular separation can depend on the direction of the transformation. [astropy.coordinates.baseframe]\n",
      "WARNING: NonRotationTransformationWarning: transforming other coordinates from <ICRS Frame> to <GCRS Frame (obstime=2460837.5879514706, obsgeoloc=(-5339517.42202111, -485851.10103032, 3448238.50561958) m, obsgeovel=(35.43718462, -389.98492425, -0.07457145) m / s)>. Angular separation can depend on the direction of the transformation. [astropy.coordinates.baseframe]\n",
      "WARNING: NonRotationTransformationWarning: transforming other coordinates from <ICRS Frame> to <GCRS Frame (obstime=2460838.588238269, obsgeoloc=(-5329312.05218142, -587419.31179434, 3448219.53864336) m, obsgeovel=(42.84361222, -389.24087313, -0.0929833) m / s)>. Angular separation can depend on the direction of the transformation. [astropy.coordinates.baseframe]\n"
     ]
    },
    {
     "name": "stdout",
     "output_type": "stream",
     "text": [
      "Name: APO Observing List 2025-06-07 to -12\n",
      "Criteria\n",
      "    lambda df: (df[\"Target Type\"].isin([\"QuadEB\", \"SextEB\"]))),\n",
      "    Observability threshold: (<Quantity 35. deg>, <Quantity 80. deg>)\n",
      "    AltitudeConstraint: {'min': np.float64(35.0), 'max': np.float64(80.0), 'boolean_constraint': True}\n",
      "    lambda df: (df[\"Observable Any Night\"])),\n",
      "    lambda df: (df[\"Vmag\"] < 13)),\n",
      "35 targets:\n",
      "      35 QuadEB\n",
      "Column Count (primary, secondary):\n",
      "    Target: (3, 4)\n",
      "    TESS Data: (2, 4)\n",
      "    Observable: (5, 20)\n",
      "    Count: (3, 0)\n",
      "Associated tables:\n",
      "       5 rows,  2 columns: Lunar Phases\n",
      "     117 rows,  7 columns: Ephemerides\n",
      "     916 rows, 10 columns: Phase Events\n",
      "      97 rows, 12 columns: DSSI Observations\n",
      "      42 rows,  6 columns: SIDE Observations\n",
      "      54 rows, 11 columns: Speckle Detections\n",
      "\n"
     ]
    }
   ],
   "source": [
    "conn = connect(\"../../../../Data/astropaul.db\")\n",
    "\n",
    "session = tlc.ObservingSession(ap.Observer.at_site(\"APO\"))\n",
    "session.add_full_day(\"2025-06-07\")\n",
    "session.add_full_day(\"2025-06-08\")\n",
    "session.add_full_day(\"2025-06-10\")\n",
    "session.add_full_day(\"2025-06-11\")\n",
    "session.add_half_day(\"2025-06-12\", first_half=True)\n",
    "\n",
    "synthetic_phase_percent = 0.01\n",
    "\n",
    "phase_event_defs = [\n",
    "    ph.PhaseEventDef(\"Mid Eclipse\", ph.calc_mid_eclipse),\n",
    "    ph.PhaseEventDef(\"Eclipse\", ph.calc_mid_eclipse),\n",
    "    ph.PhaseEventDef(\n",
    "        \"Not in Eclipse\", partial(ph.calc_time_of_gress, synthetic_phase_percent=synthetic_phase_percent, ingress=False)\n",
    "    ),\n",
    "    ph.PhaseEventDef(\"Eclipse\", partial(ph.calc_time_of_gress, synthetic_phase_percent=synthetic_phase_percent, ingress=True)),\n",
    "]\n",
    "\n",
    "min_altitude = 35 * u.deg\n",
    "max_magnitude = 13\n",
    "\n",
    "name = \"APO Observing List 2025-06-07 to -12\"\n",
    "creator = tlc.TargetListCreator(name=name, connection=conn)\n",
    "creator.steps = [\n",
    "    tlc.add_targets,\n",
    "    partial(tlc.filter_targets, criteria=lambda df: (df[\"Target Type\"].isin([\"QuadEB\", \"SextEB\"]))),\n",
    "    # partial(tlc.filter_targets, criteria=lambda df: (df[\"Target Name\"] == \"TIC 123098844\")),\n",
    "    tlc.ancillary_data_from_tess,\n",
    "    partial(\n",
    "        tlc.add_observability,\n",
    "        observing_session=session,\n",
    "        calc_moon_distance=True,\n",
    "        observability_threshold=(min_altitude, 80 * u.deg),\n",
    "    ),\n",
    "    partial(tlc.filter_targets, criteria=lambda df: (df[\"Observable Any Night\"])),\n",
    "    partial(tlc.filter_targets, criteria=lambda df: (df[\"Vmag\"] < max_magnitude)),\n",
    "    partial(tlc.add_database_table, table_name=\"ephemerides\"),\n",
    "    # partial(tlc.add_phase_events, observing_session=session, phase_event_defs=phase_event_defs),\n",
    "    partial(\n",
    "        tlc.add_phase_events,\n",
    "        observing_session=session,\n",
    "        phase_event_defs=phase_event_defs,\n",
    "        event_types=[\"Mid Eclipse\", \"Eclipse\", \"Not in Eclipse\"],\n",
    "        # event_types=[\"Ingress\", \"Mid Eclipse\", \"Egress\", \"In Eclipse\"],\n",
    "    ),\n",
    "    partial(tlc.add_database_table, table_name=\"dssi_observations\"),\n",
    "    partial(\n",
    "        tlc.add_system_configuration, table_name=\"DSSI Observations\", time_column=\"Mid JD\", eclipse_table=\"SIDE Observations\"\n",
    "    ),\n",
    "    partial(tlc.add_database_table, table_name=\"speckle_detections\"),\n",
    "    # partial(tlc.add_side_status, phase_event_defs=phase_event_defs),\n",
    "]\n",
    "tl = creator.calculate(verbose=False)\n",
    "# html.render_observing_pages(tl, None, {}, \"html\")\n",
    "\n",
    "print(tl.summarize())\n",
    "# tl.other_lists[\"SIDE Observations\"]"
   ]
  },
  {
   "cell_type": "code",
   "execution_count": 172,
   "metadata": {},
   "outputs": [],
   "source": [
    "altitude_categories = [\n",
    "    ((-90, min_altitude.value), 0),\n",
    "    ((min_altitude.value, 90), 1),\n",
    "]\n",
    "\n",
    "pl = pr.PriorityList(tl, session, interval=30 * u.min)\n",
    "pr.calculate_altitude_priority(pl, altitude_categories=altitude_categories)\n",
    "# pr.prioritize_phase_sequence(pl, [\"In Eclipse\", \"Mid Eclipse\", \"In Eclipse\"], \"Eclipse\", True, True, True)\n",
    "pr.prioritize_phase_sequence(pl, [\"Eclipse\"], \"Eclipse\", True, True, True)\n",
    "pr.prioritize_side_observation(pl, side_state=\"Eclipse\")\n",
    "pr.calculate_overall_priority(pl)\n",
    "pr.aggregate_target_priorities(pl, skip_column_threshold=0.1)\n",
    "pl.categorize_priorities(bins=[0.00, 0.20, 0.40, 0.6, 1.00], labels=[\"\", \"*\", \"* *\", \"* * *\"])\n",
    "\n",
    "html.render_observing_pages(tl, pl, {}, \"../../../../Observing Files/APO Observing 2025-06-07 to -12 Improved\")\n",
    "# pl.numerical_priorities[0]"
   ]
  }
 ],
 "metadata": {
  "kernelspec": {
   "display_name": "Python 3",
   "language": "python",
   "name": "python3"
  },
  "language_info": {
   "codemirror_mode": {
    "name": "ipython",
    "version": 3
   },
   "file_extension": ".py",
   "mimetype": "text/x-python",
   "name": "python",
   "nbconvert_exporter": "python",
   "pygments_lexer": "ipython3",
   "version": "3.12.6"
  }
 },
 "nbformat": 4,
 "nbformat_minor": 2
}
