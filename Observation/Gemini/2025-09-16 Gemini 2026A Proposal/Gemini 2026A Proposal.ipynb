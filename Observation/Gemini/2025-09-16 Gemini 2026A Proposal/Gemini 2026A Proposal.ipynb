{
 "cells": [
  {
   "cell_type": "code",
   "execution_count": 1,
   "metadata": {},
   "outputs": [],
   "source": [
    "from functools import partial\n",
    "\n",
    "import astroplan as ap\n",
    "import astropy.units as u\n",
    "import numpy as np\n",
    "import pandas as pd\n",
    "\n",
    "from astropaul.database import database_connection\n",
    "import astropaul.html as html\n",
    "import astropaul.targetlistcreator as tlc\n",
    "import astropaul.gemini as gemini\n",
    "\n",
    "%load_ext autoreload\n",
    "%autoreload 2\n"
   ]
  },
  {
   "cell_type": "code",
   "execution_count": 2,
   "metadata": {},
   "outputs": [],
   "source": [
    "site_names = [\"Gemini North\", \"Gemini South\"]\n",
    "sessions = {}\n",
    "for site in site_names:\n",
    "    session = tlc.ObservingSession(ap.Observer.at_site(site))\n",
    "    for month in range(2, 8):\n",
    "        session.add_full_day(f\"2026-{month:02d}-01\")\n",
    "        session.add_full_day(f\"2026-{month:02d}-15\")\n",
    "    # session.add_day_range(\"2026-01-01\", \"2026-01-05\")\n",
    "    # session.add_day_range(\"2026-01-01\", \"2026-06-30\")\n",
    "    sessions[site] = session"
   ]
  },
  {
   "cell_type": "code",
   "execution_count": 3,
   "metadata": {},
   "outputs": [
    {
     "name": "stdout",
     "output_type": "stream",
     "text": [
      "13    2.9   HQUS Gemini North\n",
      "12    2.9   HQUS Gemini South\n",
      "14    3.8   Priority 1 Faint Gemini North\n",
      " 2    0.6   Priority 1 Faint Gemini South\n",
      "32    8.8   Priority 2 Faint Gemini North\n",
      "11    3.0   Priority 2 Faint Gemini South\n",
      "82 targets, 21.42 hours\n"
     ]
    }
   ],
   "source": [
    "html_dir = \"../../../../Observing Files/Gemini 2026A Proposal\"\n",
    "html.clear_directory(html_dir)\n",
    "\n",
    "lower_mag_limit = 12\n",
    "upper_mag_limit = 15\n",
    "\n",
    "exposure_time_field = \"gemini_iq70_speckle_program_time\"\n",
    "\n",
    "targets_pit_will_reject = {\n",
    "    \"TIC 292318612\",\n",
    "    \"TIC 251757935\",\n",
    "    \"TIC 285681367\",\n",
    "    \"TIC 178953404\",\n",
    "    \"TIC 139650665\",\n",
    "    \"TIC 244279814\",\n",
    "}\n",
    "\n",
    "common_steps = [\n",
    "    tlc.add_targets,\n",
    "    tlc.ancillary_data_from_tess,\n",
    "    partial(tlc.add_database_table, table_name=\"zorroalopeke_observations\"),\n",
    "    partial(tlc.filter_targets, criteria=lambda df: df[\"Num Zorroalopeke Observations\"] == 0),\n",
    "    partial(tlc.filter_targets, inverse=True, criteria=lambda df: df[\"Target Name\"].isin(targets_pit_will_reject)),\n",
    "    gemini.add_gemini_speckle_params,\n",
    "]\n",
    "\n",
    "list_steps = {\n",
    "    \"HQUS\": [\n",
    "        tlc.add_lists,\n",
    "        partial(tlc.filter_targets, criteria=lambda df: df[\"List HQND 2025-09-30\"]),\n",
    "    ],\n",
    "    \"Priority 1 Faint\": [\n",
    "        tlc.add_lists,\n",
    "        partial(tlc.filter_targets, inverse=True, criteria=lambda df: df[\"List Resolved 2025-09-30\"]),\n",
    "        partial(tlc.filter_targets, criteria=lambda df: df[\"Vmag\"] > lower_mag_limit),\n",
    "        partial(tlc.filter_targets, criteria=lambda df: df[\"Target Source\"].str.contains(\"Kostov 2022\")),\n",
    "        partial(tlc.add_database_table, table_name=\"dssi_observations\"),\n",
    "        # partial(tlc.filter_targets, criteria=lambda df: df[\"Num DSSI Observations\"] == 0),\n",
    "    ],\n",
    "    \"Priority 2 Faint\": [\n",
    "        partial(tlc.filter_targets, criteria=lambda df: df[\"Vmag\"] > lower_mag_limit),\n",
    "        partial(tlc.filter_targets, criteria=lambda df: df[\"Vmag\"] < upper_mag_limit),\n",
    "        partial(tlc.filter_targets, criteria=lambda df: df[\"Target Source\"].str.contains(\"Kostov 2023\")),\n",
    "        partial(tlc.add_database_table, table_name=\"dssi_observations\"),\n",
    "        partial(tlc.filter_targets, criteria=lambda df: df[\"Num DSSI Observations\"] == 0),\n",
    "    ],\n",
    "}\n",
    "\n",
    "site_specific_steps = [\n",
    "    partial(tlc.add_observability, observability_threshold=(35 * u.deg, 80 * u.deg), time_resolution=60 * u.min),\n",
    "    partial(tlc.filter_targets, criteria=lambda df: df[\"Observable Any Night\"]),\n",
    "]\n",
    "\n",
    "targets = set()\n",
    "lists = {}\n",
    "with database_connection() as conn:\n",
    "    for list_prefix, steps in list_steps.items():\n",
    "        for site_name, session in sessions.items():\n",
    "            list_name = f\"{list_prefix} {site_name}\"\n",
    "            creator = tlc.TargetListCreator(name=list_name, connection=conn)\n",
    "            this_steps = (\n",
    "                common_steps\n",
    "                + steps\n",
    "                + [partial(tlc.filter_targets, inverse=True, criteria=lambda df: df[\"Target Name\"].isin(targets))]\n",
    "                + site_specific_steps\n",
    "            )\n",
    "            tl = creator.calculate(steps=this_steps, observing_session=session, verbose=False)\n",
    "            tl.target_list[\"Group Category\"] = list_prefix\n",
    "            tl.target_list[\"Group Name\"] = list_name\n",
    "            tl.target_list[\"Observatory\"] = pd.cut(\n",
    "                tl.target_list[\"Dec\"], bins=[-90, -25, 25, 90], labels=[\"South\", \"Both\", \"North\"]\n",
    "            )\n",
    "            lists[list_name] = tl\n",
    "            targets.update(tl.target_list[\"Target Name\"])\n",
    "            print(f\"{len(tl.target_list):2d}   {tl.target_list[exposure_time_field].sum()/3600:4.1f}   {list_name}\")\n",
    "\n",
    "\n",
    "unified_list = tlc.TargetList.union(list(lists.values()), name=\"Gemini 2026A Proposal\")\n",
    "\n",
    "targets_to_skip = [\"TIC 52856877\", \"TIC 50198590\"]  # , \"TIC 244279814\"] # PIT disagreed with me that these are observable\n",
    "unified_list.target_list = unified_list.target_list[~unified_list.target_list[\"Target Name\"].isin(targets_to_skip)]\n",
    "proposal_targets = unified_list.target_list\n",
    "\n",
    "output_list = proposal_targets[[\"Target Name\", \"RA\", \"Dec\", \"Vmag\", exposure_time_field]]\n",
    "output_list.columns = [\"Name\", \"RAJ2000\", \"DecJ2000\", \"V\", \"Exposure Time\"]\n",
    "output_list.to_csv(\"Gemini 2026A Targets.csv\", index=False)\n",
    "print(f\"{len(proposal_targets)} targets, {proposal_targets[exposure_time_field].sum() / 3600:.2f} hours\")\n",
    "\n",
    "# print(unified_list.summarize())\n",
    "html.render_observing_pages(unified_list, None, {}, html_dir)"
   ]
  },
  {
   "cell_type": "code",
   "execution_count": 4,
   "metadata": {},
   "outputs": [
    {
     "data": {
      "application/vnd.plotly.v1+json": {
       "config": {
        "plotlyServerURL": "https://plot.ly"
       },
       "data": [
        {
         "hovertemplate": "Period_A=%{x}<br>BA_Ratio=%{y}<extra></extra>",
         "legendgroup": "",
         "marker": {
          "color": "#636efa",
          "symbol": "circle"
         },
         "mode": "markers",
         "name": "",
         "orientation": "v",
         "showlegend": false,
         "type": "scatter",
         "x": [
          3.05361,
          5.54096,
          3.91817,
          1.37597,
          4.244072,
          1.665448,
          2.00191,
          3.478022,
          10.15856,
          0.93308,
          3.526276,
          1.64078,
          2.56703,
          8.36579,
          8.4245,
          1.361337,
          3.479611,
          1.350249,
          1.58979,
          7.512638,
          6.2628,
          2.135567,
          2.60443,
          2.409932,
          1.76497,
          2.71566,
          22.625534,
          2.13397,
          2.300008,
          6.55927,
          2.89089,
          1.05668,
          0.79935,
          2.79561,
          1.401379,
          1.731754,
          1.422857,
          4.079268,
          2.00051,
          1.822309,
          2.50659,
          1.182144,
          1.483742,
          2.268855,
          2.3437,
          1.203606,
          2.098992,
          5.774547,
          1.887222,
          10.3928,
          4.371661,
          1.388452,
          3.110381,
          4.86821,
          2.161915,
          0.544981,
          8.218602,
          8.59283,
          2.6484,
          3.36019,
          2.23104,
          4.919396,
          5.557302,
          1.156328,
          2.557052,
          0.459147,
          2.29905,
          2.13939,
          4.630508,
          10.011832,
          7.552,
          12.403102,
          1.094351,
          4.229981,
          5.50371,
          5.538208,
          9.11287,
          1.785155,
          3.285681,
          5.280414,
          4.438139,
          4.198947,
          8.2325,
          6.594526,
          2.366008,
          10.132402,
          3.04897,
          2.215998,
          1.010966,
          2.15904,
          2.65162,
          3.03667,
          2.077867,
          2.36543,
          2.122862,
          10.38964,
          2.492484,
          3.381354,
          4.727202,
          5.48136,
          1.68477,
          2.50609,
          1.99193,
          2.417501,
          2.426677,
          5.442645,
          1.44213,
          1.74582,
          3.516299,
          1.3171,
          1.12714,
          3.073838,
          2.757776,
          3.1842,
          1.80352,
          2.625028,
          2.446538,
          1.67372,
          1.75267,
          0.681089,
          1.225515,
          2.8823,
          2.456281,
          2.52811,
          4.77418,
          1.693168,
          2.134084,
          1.516586,
          11.9077,
          3.464396,
          2.307661,
          1.014579,
          4.173996,
          1.856892,
          0.935825,
          4.668622,
          0.75363,
          5.428699,
          2.521312,
          1.072756,
          5.186818,
          3.956059,
          2.614296,
          2.625882,
          1.829758,
          2.235057,
          2.288076,
          3.17353,
          5.9507,
          0.418238,
          0.342094,
          2.740724,
          1.697811,
          1.35895,
          2.091887,
          1.75514,
          1.533535,
          0.972387,
          2.717596,
          1.766053,
          0.62141,
          1.41561,
          0.61421,
          1.730707,
          3.120829,
          1.311984,
          1.694052,
          2.028061,
          2.88838,
          1.054483,
          3.54389,
          3.182144,
          3.81473,
          0.876867,
          1.967319,
          2.266359,
          1.207163,
          2.461095,
          3.40745,
          0.79276,
          0.84381,
          0.73981,
          0.449904,
          1.104686,
          0.84712,
          1.443586,
          2.997813,
          1.440517,
          0.540612,
          2.69633,
          0.297159,
          0.995134
         ],
         "xaxis": "x",
         "y": [
          1.0072176866069995,
          1.0165909878432617,
          1.017970123807798,
          1.027020937956496,
          1.0278555594721297,
          1.0410754343576023,
          1.0420048853345054,
          1.0515775920911368,
          1.0546731032744798,
          1.0570808505165687,
          1.0588011261739012,
          1.0588805324296982,
          1.0636424194497143,
          1.0686928550680808,
          1.0826161790017212,
          1.0909275219875754,
          1.1016912522692912,
          1.1023870412049925,
          1.1070701161788663,
          1.1124698141984213,
          1.1210161589065593,
          1.1412861315051226,
          1.1429909807520264,
          1.1433003088883835,
          1.1635381904508293,
          1.1650979872296237,
          1.1676412145675767,
          1.1697352821267402,
          1.1721467925328954,
          1.1726411628123252,
          1.176807142437104,
          1.185243403868721,
          1.187514855820354,
          1.1966443817270649,
          1.1991217222464443,
          1.209424086792928,
          1.2213511266416794,
          1.222517618357019,
          1.2264772483016833,
          1.2379376933330186,
          1.2385511790919137,
          1.239992758919387,
          1.2428447802919915,
          1.2583029766115508,
          1.2600162136792252,
          1.2669943486489765,
          1.2892645612751263,
          1.2909017798279243,
          1.302187024102093,
          1.3108979293356942,
          1.312889311408181,
          1.3268618576659474,
          1.3273431775721367,
          1.3386614381877529,
          1.3407488268502694,
          1.3473809178668612,
          1.3587520115951592,
          1.3710099396822701,
          1.3735719679806675,
          1.379389260726328,
          1.3872723034997132,
          1.3965816128646689,
          1.4147571969275738,
          1.4184055043205734,
          1.4242037314845377,
          1.4350284331597505,
          1.4913655640373198,
          1.4917803673009595,
          1.4963695128050745,
          1.5061994647932566,
          1.5069862288135594,
          1.5166174558590262,
          1.5168981432830964,
          1.5260796679701398,
          1.528892328992625,
          1.5322640464207915,
          1.5906690208463417,
          1.6110489005156414,
          1.6135571286439554,
          1.6203632896966031,
          1.6399666617021236,
          1.6453929997211203,
          1.6567142423322199,
          1.6753612010931491,
          1.6780496938302831,
          1.6878186435950724,
          1.718468859975664,
          1.7244776394202521,
          1.7493664475363169,
          1.7540990440195643,
          1.8376501912038679,
          1.8433086242495893,
          1.8462423244606128,
          1.8713663054920249,
          1.8905402235284252,
          1.8930588547822638,
          1.902707098621295,
          1.9144579360812266,
          1.9213875353750485,
          1.933297575784112,
          1.9336704713403015,
          1.952180488330427,
          2.011903028720889,
          2.0393058782602367,
          2.1004233361094204,
          2.1493090216245965,
          2.2058690964060106,
          2.2136703669335898,
          2.231380209703441,
          2.2332396932655074,
          2.2510690774881557,
          2.290620715860758,
          2.3417380526917344,
          2.4199453551912566,
          2.4302031582682755,
          2.446778472458199,
          2.451656585755055,
          2.5513586501923857,
          2.568207363622359,
          2.6268666796850337,
          2.6964125286104212,
          2.716561079693301,
          2.7244053103044807,
          2.748527556158553,
          2.8265209941811995,
          2.8714179573438665,
          2.879099416892681,
          2.908058626414855,
          2.9409970019399214,
          2.980882381806237,
          3.076178000148202,
          3.0860218869107285,
          3.0972032555852955,
          3.1437105658271998,
          3.165040472310528,
          3.1670424377899944,
          3.3389461672173346,
          3.366210946674332,
          3.515256739348403,
          3.5463777410706627,
          3.5833935179526257,
          3.6738936401100184,
          3.690726298781775,
          3.7956568497746663,
          3.87532121734131,
          3.8947463084834086,
          4.093182219471731,
          4.343478712978922,
          4.36608298183407,
          4.4604268383073755,
          4.552178640958333,
          4.564431880043375,
          4.76850073418066,
          4.830736966039957,
          5.082241057953896,
          5.2145053955809795,
          5.280957395820766,
          5.489244508616426,
          5.506899848248231,
          5.677011958304762,
          5.709357750921291,
          5.802240730144602,
          6.359876915061624,
          6.477268538233219,
          6.578048012242901,
          7.029964542250514,
          7.715038263288258,
          8.239333037812964,
          8.275573158656409,
          8.31520185721344,
          8.72311076246723,
          8.800719577743811,
          8.958151690945362,
          9.314860748551377,
          9.488358522435863,
          11.809087174626791,
          11.855627616154571,
          11.879983503278012,
          12.38006251008819,
          12.396165295928151,
          13.044058496580986,
          14.425771481866967,
          17.87269506383584,
          18.06026508890309,
          18.64716923222212,
          18.748666168832337,
          19.125208943986834,
          19.73937273909298,
          20.467710668649605,
          30.818307106326007,
          31.8976372918202,
          32.312457417794995
         ],
         "yaxis": "y"
        }
       ],
       "layout": {
        "legend": {
         "tracegroupgap": 0
        },
        "margin": {
         "t": 60
        },
        "template": {
         "data": {
          "bar": [
           {
            "error_x": {
             "color": "#2a3f5f"
            },
            "error_y": {
             "color": "#2a3f5f"
            },
            "marker": {
             "line": {
              "color": "#E5ECF6",
              "width": 0.5
             },
             "pattern": {
              "fillmode": "overlay",
              "size": 10,
              "solidity": 0.2
             }
            },
            "type": "bar"
           }
          ],
          "barpolar": [
           {
            "marker": {
             "line": {
              "color": "#E5ECF6",
              "width": 0.5
             },
             "pattern": {
              "fillmode": "overlay",
              "size": 10,
              "solidity": 0.2
             }
            },
            "type": "barpolar"
           }
          ],
          "carpet": [
           {
            "aaxis": {
             "endlinecolor": "#2a3f5f",
             "gridcolor": "white",
             "linecolor": "white",
             "minorgridcolor": "white",
             "startlinecolor": "#2a3f5f"
            },
            "baxis": {
             "endlinecolor": "#2a3f5f",
             "gridcolor": "white",
             "linecolor": "white",
             "minorgridcolor": "white",
             "startlinecolor": "#2a3f5f"
            },
            "type": "carpet"
           }
          ],
          "choropleth": [
           {
            "colorbar": {
             "outlinewidth": 0,
             "ticks": ""
            },
            "type": "choropleth"
           }
          ],
          "contour": [
           {
            "colorbar": {
             "outlinewidth": 0,
             "ticks": ""
            },
            "colorscale": [
             [
              0,
              "#0d0887"
             ],
             [
              0.1111111111111111,
              "#46039f"
             ],
             [
              0.2222222222222222,
              "#7201a8"
             ],
             [
              0.3333333333333333,
              "#9c179e"
             ],
             [
              0.4444444444444444,
              "#bd3786"
             ],
             [
              0.5555555555555556,
              "#d8576b"
             ],
             [
              0.6666666666666666,
              "#ed7953"
             ],
             [
              0.7777777777777778,
              "#fb9f3a"
             ],
             [
              0.8888888888888888,
              "#fdca26"
             ],
             [
              1,
              "#f0f921"
             ]
            ],
            "type": "contour"
           }
          ],
          "contourcarpet": [
           {
            "colorbar": {
             "outlinewidth": 0,
             "ticks": ""
            },
            "type": "contourcarpet"
           }
          ],
          "heatmap": [
           {
            "colorbar": {
             "outlinewidth": 0,
             "ticks": ""
            },
            "colorscale": [
             [
              0,
              "#0d0887"
             ],
             [
              0.1111111111111111,
              "#46039f"
             ],
             [
              0.2222222222222222,
              "#7201a8"
             ],
             [
              0.3333333333333333,
              "#9c179e"
             ],
             [
              0.4444444444444444,
              "#bd3786"
             ],
             [
              0.5555555555555556,
              "#d8576b"
             ],
             [
              0.6666666666666666,
              "#ed7953"
             ],
             [
              0.7777777777777778,
              "#fb9f3a"
             ],
             [
              0.8888888888888888,
              "#fdca26"
             ],
             [
              1,
              "#f0f921"
             ]
            ],
            "type": "heatmap"
           }
          ],
          "heatmapgl": [
           {
            "colorbar": {
             "outlinewidth": 0,
             "ticks": ""
            },
            "colorscale": [
             [
              0,
              "#0d0887"
             ],
             [
              0.1111111111111111,
              "#46039f"
             ],
             [
              0.2222222222222222,
              "#7201a8"
             ],
             [
              0.3333333333333333,
              "#9c179e"
             ],
             [
              0.4444444444444444,
              "#bd3786"
             ],
             [
              0.5555555555555556,
              "#d8576b"
             ],
             [
              0.6666666666666666,
              "#ed7953"
             ],
             [
              0.7777777777777778,
              "#fb9f3a"
             ],
             [
              0.8888888888888888,
              "#fdca26"
             ],
             [
              1,
              "#f0f921"
             ]
            ],
            "type": "heatmapgl"
           }
          ],
          "histogram": [
           {
            "marker": {
             "pattern": {
              "fillmode": "overlay",
              "size": 10,
              "solidity": 0.2
             }
            },
            "type": "histogram"
           }
          ],
          "histogram2d": [
           {
            "colorbar": {
             "outlinewidth": 0,
             "ticks": ""
            },
            "colorscale": [
             [
              0,
              "#0d0887"
             ],
             [
              0.1111111111111111,
              "#46039f"
             ],
             [
              0.2222222222222222,
              "#7201a8"
             ],
             [
              0.3333333333333333,
              "#9c179e"
             ],
             [
              0.4444444444444444,
              "#bd3786"
             ],
             [
              0.5555555555555556,
              "#d8576b"
             ],
             [
              0.6666666666666666,
              "#ed7953"
             ],
             [
              0.7777777777777778,
              "#fb9f3a"
             ],
             [
              0.8888888888888888,
              "#fdca26"
             ],
             [
              1,
              "#f0f921"
             ]
            ],
            "type": "histogram2d"
           }
          ],
          "histogram2dcontour": [
           {
            "colorbar": {
             "outlinewidth": 0,
             "ticks": ""
            },
            "colorscale": [
             [
              0,
              "#0d0887"
             ],
             [
              0.1111111111111111,
              "#46039f"
             ],
             [
              0.2222222222222222,
              "#7201a8"
             ],
             [
              0.3333333333333333,
              "#9c179e"
             ],
             [
              0.4444444444444444,
              "#bd3786"
             ],
             [
              0.5555555555555556,
              "#d8576b"
             ],
             [
              0.6666666666666666,
              "#ed7953"
             ],
             [
              0.7777777777777778,
              "#fb9f3a"
             ],
             [
              0.8888888888888888,
              "#fdca26"
             ],
             [
              1,
              "#f0f921"
             ]
            ],
            "type": "histogram2dcontour"
           }
          ],
          "mesh3d": [
           {
            "colorbar": {
             "outlinewidth": 0,
             "ticks": ""
            },
            "type": "mesh3d"
           }
          ],
          "parcoords": [
           {
            "line": {
             "colorbar": {
              "outlinewidth": 0,
              "ticks": ""
             }
            },
            "type": "parcoords"
           }
          ],
          "pie": [
           {
            "automargin": true,
            "type": "pie"
           }
          ],
          "scatter": [
           {
            "fillpattern": {
             "fillmode": "overlay",
             "size": 10,
             "solidity": 0.2
            },
            "type": "scatter"
           }
          ],
          "scatter3d": [
           {
            "line": {
             "colorbar": {
              "outlinewidth": 0,
              "ticks": ""
             }
            },
            "marker": {
             "colorbar": {
              "outlinewidth": 0,
              "ticks": ""
             }
            },
            "type": "scatter3d"
           }
          ],
          "scattercarpet": [
           {
            "marker": {
             "colorbar": {
              "outlinewidth": 0,
              "ticks": ""
             }
            },
            "type": "scattercarpet"
           }
          ],
          "scattergeo": [
           {
            "marker": {
             "colorbar": {
              "outlinewidth": 0,
              "ticks": ""
             }
            },
            "type": "scattergeo"
           }
          ],
          "scattergl": [
           {
            "marker": {
             "colorbar": {
              "outlinewidth": 0,
              "ticks": ""
             }
            },
            "type": "scattergl"
           }
          ],
          "scattermapbox": [
           {
            "marker": {
             "colorbar": {
              "outlinewidth": 0,
              "ticks": ""
             }
            },
            "type": "scattermapbox"
           }
          ],
          "scatterpolar": [
           {
            "marker": {
             "colorbar": {
              "outlinewidth": 0,
              "ticks": ""
             }
            },
            "type": "scatterpolar"
           }
          ],
          "scatterpolargl": [
           {
            "marker": {
             "colorbar": {
              "outlinewidth": 0,
              "ticks": ""
             }
            },
            "type": "scatterpolargl"
           }
          ],
          "scatterternary": [
           {
            "marker": {
             "colorbar": {
              "outlinewidth": 0,
              "ticks": ""
             }
            },
            "type": "scatterternary"
           }
          ],
          "surface": [
           {
            "colorbar": {
             "outlinewidth": 0,
             "ticks": ""
            },
            "colorscale": [
             [
              0,
              "#0d0887"
             ],
             [
              0.1111111111111111,
              "#46039f"
             ],
             [
              0.2222222222222222,
              "#7201a8"
             ],
             [
              0.3333333333333333,
              "#9c179e"
             ],
             [
              0.4444444444444444,
              "#bd3786"
             ],
             [
              0.5555555555555556,
              "#d8576b"
             ],
             [
              0.6666666666666666,
              "#ed7953"
             ],
             [
              0.7777777777777778,
              "#fb9f3a"
             ],
             [
              0.8888888888888888,
              "#fdca26"
             ],
             [
              1,
              "#f0f921"
             ]
            ],
            "type": "surface"
           }
          ],
          "table": [
           {
            "cells": {
             "fill": {
              "color": "#EBF0F8"
             },
             "line": {
              "color": "white"
             }
            },
            "header": {
             "fill": {
              "color": "#C8D4E3"
             },
             "line": {
              "color": "white"
             }
            },
            "type": "table"
           }
          ]
         },
         "layout": {
          "annotationdefaults": {
           "arrowcolor": "#2a3f5f",
           "arrowhead": 0,
           "arrowwidth": 1
          },
          "autotypenumbers": "strict",
          "coloraxis": {
           "colorbar": {
            "outlinewidth": 0,
            "ticks": ""
           }
          },
          "colorscale": {
           "diverging": [
            [
             0,
             "#8e0152"
            ],
            [
             0.1,
             "#c51b7d"
            ],
            [
             0.2,
             "#de77ae"
            ],
            [
             0.3,
             "#f1b6da"
            ],
            [
             0.4,
             "#fde0ef"
            ],
            [
             0.5,
             "#f7f7f7"
            ],
            [
             0.6,
             "#e6f5d0"
            ],
            [
             0.7,
             "#b8e186"
            ],
            [
             0.8,
             "#7fbc41"
            ],
            [
             0.9,
             "#4d9221"
            ],
            [
             1,
             "#276419"
            ]
           ],
           "sequential": [
            [
             0,
             "#0d0887"
            ],
            [
             0.1111111111111111,
             "#46039f"
            ],
            [
             0.2222222222222222,
             "#7201a8"
            ],
            [
             0.3333333333333333,
             "#9c179e"
            ],
            [
             0.4444444444444444,
             "#bd3786"
            ],
            [
             0.5555555555555556,
             "#d8576b"
            ],
            [
             0.6666666666666666,
             "#ed7953"
            ],
            [
             0.7777777777777778,
             "#fb9f3a"
            ],
            [
             0.8888888888888888,
             "#fdca26"
            ],
            [
             1,
             "#f0f921"
            ]
           ],
           "sequentialminus": [
            [
             0,
             "#0d0887"
            ],
            [
             0.1111111111111111,
             "#46039f"
            ],
            [
             0.2222222222222222,
             "#7201a8"
            ],
            [
             0.3333333333333333,
             "#9c179e"
            ],
            [
             0.4444444444444444,
             "#bd3786"
            ],
            [
             0.5555555555555556,
             "#d8576b"
            ],
            [
             0.6666666666666666,
             "#ed7953"
            ],
            [
             0.7777777777777778,
             "#fb9f3a"
            ],
            [
             0.8888888888888888,
             "#fdca26"
            ],
            [
             1,
             "#f0f921"
            ]
           ]
          },
          "colorway": [
           "#636efa",
           "#EF553B",
           "#00cc96",
           "#ab63fa",
           "#FFA15A",
           "#19d3f3",
           "#FF6692",
           "#B6E880",
           "#FF97FF",
           "#FECB52"
          ],
          "font": {
           "color": "#2a3f5f"
          },
          "geo": {
           "bgcolor": "white",
           "lakecolor": "white",
           "landcolor": "#E5ECF6",
           "showlakes": true,
           "showland": true,
           "subunitcolor": "white"
          },
          "hoverlabel": {
           "align": "left"
          },
          "hovermode": "closest",
          "mapbox": {
           "style": "light"
          },
          "paper_bgcolor": "white",
          "plot_bgcolor": "#E5ECF6",
          "polar": {
           "angularaxis": {
            "gridcolor": "white",
            "linecolor": "white",
            "ticks": ""
           },
           "bgcolor": "#E5ECF6",
           "radialaxis": {
            "gridcolor": "white",
            "linecolor": "white",
            "ticks": ""
           }
          },
          "scene": {
           "xaxis": {
            "backgroundcolor": "#E5ECF6",
            "gridcolor": "white",
            "gridwidth": 2,
            "linecolor": "white",
            "showbackground": true,
            "ticks": "",
            "zerolinecolor": "white"
           },
           "yaxis": {
            "backgroundcolor": "#E5ECF6",
            "gridcolor": "white",
            "gridwidth": 2,
            "linecolor": "white",
            "showbackground": true,
            "ticks": "",
            "zerolinecolor": "white"
           },
           "zaxis": {
            "backgroundcolor": "#E5ECF6",
            "gridcolor": "white",
            "gridwidth": 2,
            "linecolor": "white",
            "showbackground": true,
            "ticks": "",
            "zerolinecolor": "white"
           }
          },
          "shapedefaults": {
           "line": {
            "color": "#2a3f5f"
           }
          },
          "ternary": {
           "aaxis": {
            "gridcolor": "white",
            "linecolor": "white",
            "ticks": ""
           },
           "baxis": {
            "gridcolor": "white",
            "linecolor": "white",
            "ticks": ""
           },
           "bgcolor": "#E5ECF6",
           "caxis": {
            "gridcolor": "white",
            "linecolor": "white",
            "ticks": ""
           }
          },
          "title": {
           "x": 0.05
          },
          "xaxis": {
           "automargin": true,
           "gridcolor": "white",
           "linecolor": "white",
           "ticks": "",
           "title": {
            "standoff": 15
           },
           "zerolinecolor": "white",
           "zerolinewidth": 2
          },
          "yaxis": {
           "automargin": true,
           "gridcolor": "white",
           "linecolor": "white",
           "ticks": "",
           "title": {
            "standoff": 15
           },
           "zerolinecolor": "white",
           "zerolinewidth": 2
          }
         }
        },
        "xaxis": {
         "anchor": "y",
         "domain": [
          0,
          1
         ],
         "title": {
          "text": "Period_A"
         }
        },
        "yaxis": {
         "anchor": "x",
         "domain": [
          0,
          1
         ],
         "title": {
          "text": "BA_Ratio"
         }
        }
       }
      }
     },
     "metadata": {},
     "output_type": "display_data"
    },
    {
     "data": {
      "application/vnd.plotly.v1+json": {
       "config": {
        "plotlyServerURL": "https://plot.ly"
       },
       "data": [
        {
         "alignmentgroup": "True",
         "bingroup": "x",
         "hovertemplate": "BA_Ratio=%{x}<br>count=%{y}<extra></extra>",
         "legendgroup": "",
         "marker": {
          "color": "#636efa",
          "pattern": {
           "shape": ""
          }
         },
         "name": "",
         "nbinsx": 120,
         "offsetgroup": "",
         "orientation": "v",
         "showlegend": false,
         "type": "histogram",
         "x": [
          1.0072176866069995,
          1.0165909878432617,
          1.017970123807798,
          1.027020937956496,
          1.0278555594721297,
          1.0410754343576023,
          1.0420048853345054,
          1.0515775920911368,
          1.0546731032744798,
          1.0570808505165687,
          1.0588011261739012,
          1.0588805324296982,
          1.0636424194497143,
          1.0686928550680808,
          1.0826161790017212,
          1.0909275219875754,
          1.1016912522692912,
          1.1023870412049925,
          1.1070701161788663,
          1.1124698141984213,
          1.1210161589065593,
          1.1412861315051226,
          1.1429909807520264,
          1.1433003088883835,
          1.1635381904508293,
          1.1650979872296237,
          1.1676412145675767,
          1.1697352821267402,
          1.1721467925328954,
          1.1726411628123252,
          1.176807142437104,
          1.185243403868721,
          1.187514855820354,
          1.1966443817270649,
          1.1991217222464443,
          1.209424086792928,
          1.2213511266416794,
          1.222517618357019,
          1.2264772483016833,
          1.2379376933330186,
          1.2385511790919137,
          1.239992758919387,
          1.2428447802919915,
          1.2583029766115508,
          1.2600162136792252,
          1.2669943486489765,
          1.2892645612751263,
          1.2909017798279243,
          1.302187024102093,
          1.3108979293356942,
          1.312889311408181,
          1.3268618576659474,
          1.3273431775721367,
          1.3386614381877529,
          1.3407488268502694,
          1.3473809178668612,
          1.3587520115951592,
          1.3710099396822701,
          1.3735719679806675,
          1.379389260726328,
          1.3872723034997132,
          1.3965816128646689,
          1.4147571969275738,
          1.4184055043205734,
          1.4242037314845377,
          1.4350284331597505,
          1.4913655640373198,
          1.4917803673009595,
          1.4963695128050745,
          1.5061994647932566,
          1.5069862288135594,
          1.5166174558590262,
          1.5168981432830964,
          1.5260796679701398,
          1.528892328992625,
          1.5322640464207915,
          1.5906690208463417,
          1.6110489005156414,
          1.6135571286439554,
          1.6203632896966031,
          1.6399666617021236,
          1.6453929997211203,
          1.6567142423322199,
          1.6753612010931491,
          1.6780496938302831,
          1.6878186435950724,
          1.718468859975664,
          1.7244776394202521,
          1.7493664475363169,
          1.7540990440195643,
          1.8376501912038679,
          1.8433086242495893,
          1.8462423244606128,
          1.8713663054920249,
          1.8905402235284252,
          1.8930588547822638,
          1.902707098621295,
          1.9144579360812266,
          1.9213875353750485,
          1.933297575784112,
          1.9336704713403015,
          1.952180488330427,
          2.011903028720889,
          2.0393058782602367,
          2.1004233361094204,
          2.1493090216245965,
          2.2058690964060106,
          2.2136703669335898,
          2.231380209703441,
          2.2332396932655074,
          2.2510690774881557,
          2.290620715860758,
          2.3417380526917344,
          2.4199453551912566,
          2.4302031582682755,
          2.446778472458199,
          2.451656585755055,
          2.5513586501923857,
          2.568207363622359,
          2.6268666796850337,
          2.6964125286104212,
          2.716561079693301,
          2.7244053103044807,
          2.748527556158553,
          2.8265209941811995,
          2.8714179573438665,
          2.879099416892681,
          2.908058626414855,
          2.9409970019399214,
          2.980882381806237,
          3.076178000148202,
          3.0860218869107285,
          3.0972032555852955,
          3.1437105658271998,
          3.165040472310528,
          3.1670424377899944,
          3.3389461672173346,
          3.366210946674332,
          3.515256739348403,
          3.5463777410706627,
          3.5833935179526257,
          3.6738936401100184,
          3.690726298781775,
          3.7956568497746663,
          3.87532121734131,
          3.8947463084834086,
          4.093182219471731,
          4.343478712978922,
          4.36608298183407,
          4.4604268383073755,
          4.552178640958333,
          4.564431880043375,
          4.76850073418066,
          4.830736966039957,
          5.082241057953896,
          5.2145053955809795,
          5.280957395820766,
          5.489244508616426,
          5.506899848248231,
          5.677011958304762,
          5.709357750921291,
          5.802240730144602,
          6.359876915061624,
          6.477268538233219,
          6.578048012242901,
          7.029964542250514,
          7.715038263288258,
          8.239333037812964,
          8.275573158656409,
          8.31520185721344,
          8.72311076246723,
          8.800719577743811,
          8.958151690945362,
          9.314860748551377,
          9.488358522435863,
          11.809087174626791,
          11.855627616154571,
          11.879983503278012,
          12.38006251008819,
          12.396165295928151,
          13.044058496580986,
          14.425771481866967,
          17.87269506383584,
          18.06026508890309,
          18.64716923222212,
          18.748666168832337,
          19.125208943986834,
          19.73937273909298,
          20.467710668649605,
          30.818307106326007,
          31.8976372918202,
          32.312457417794995
         ],
         "xaxis": "x",
         "yaxis": "y"
        }
       ],
       "layout": {
        "barmode": "relative",
        "legend": {
         "tracegroupgap": 0
        },
        "margin": {
         "t": 60
        },
        "template": {
         "data": {
          "bar": [
           {
            "error_x": {
             "color": "#2a3f5f"
            },
            "error_y": {
             "color": "#2a3f5f"
            },
            "marker": {
             "line": {
              "color": "#E5ECF6",
              "width": 0.5
             },
             "pattern": {
              "fillmode": "overlay",
              "size": 10,
              "solidity": 0.2
             }
            },
            "type": "bar"
           }
          ],
          "barpolar": [
           {
            "marker": {
             "line": {
              "color": "#E5ECF6",
              "width": 0.5
             },
             "pattern": {
              "fillmode": "overlay",
              "size": 10,
              "solidity": 0.2
             }
            },
            "type": "barpolar"
           }
          ],
          "carpet": [
           {
            "aaxis": {
             "endlinecolor": "#2a3f5f",
             "gridcolor": "white",
             "linecolor": "white",
             "minorgridcolor": "white",
             "startlinecolor": "#2a3f5f"
            },
            "baxis": {
             "endlinecolor": "#2a3f5f",
             "gridcolor": "white",
             "linecolor": "white",
             "minorgridcolor": "white",
             "startlinecolor": "#2a3f5f"
            },
            "type": "carpet"
           }
          ],
          "choropleth": [
           {
            "colorbar": {
             "outlinewidth": 0,
             "ticks": ""
            },
            "type": "choropleth"
           }
          ],
          "contour": [
           {
            "colorbar": {
             "outlinewidth": 0,
             "ticks": ""
            },
            "colorscale": [
             [
              0,
              "#0d0887"
             ],
             [
              0.1111111111111111,
              "#46039f"
             ],
             [
              0.2222222222222222,
              "#7201a8"
             ],
             [
              0.3333333333333333,
              "#9c179e"
             ],
             [
              0.4444444444444444,
              "#bd3786"
             ],
             [
              0.5555555555555556,
              "#d8576b"
             ],
             [
              0.6666666666666666,
              "#ed7953"
             ],
             [
              0.7777777777777778,
              "#fb9f3a"
             ],
             [
              0.8888888888888888,
              "#fdca26"
             ],
             [
              1,
              "#f0f921"
             ]
            ],
            "type": "contour"
           }
          ],
          "contourcarpet": [
           {
            "colorbar": {
             "outlinewidth": 0,
             "ticks": ""
            },
            "type": "contourcarpet"
           }
          ],
          "heatmap": [
           {
            "colorbar": {
             "outlinewidth": 0,
             "ticks": ""
            },
            "colorscale": [
             [
              0,
              "#0d0887"
             ],
             [
              0.1111111111111111,
              "#46039f"
             ],
             [
              0.2222222222222222,
              "#7201a8"
             ],
             [
              0.3333333333333333,
              "#9c179e"
             ],
             [
              0.4444444444444444,
              "#bd3786"
             ],
             [
              0.5555555555555556,
              "#d8576b"
             ],
             [
              0.6666666666666666,
              "#ed7953"
             ],
             [
              0.7777777777777778,
              "#fb9f3a"
             ],
             [
              0.8888888888888888,
              "#fdca26"
             ],
             [
              1,
              "#f0f921"
             ]
            ],
            "type": "heatmap"
           }
          ],
          "heatmapgl": [
           {
            "colorbar": {
             "outlinewidth": 0,
             "ticks": ""
            },
            "colorscale": [
             [
              0,
              "#0d0887"
             ],
             [
              0.1111111111111111,
              "#46039f"
             ],
             [
              0.2222222222222222,
              "#7201a8"
             ],
             [
              0.3333333333333333,
              "#9c179e"
             ],
             [
              0.4444444444444444,
              "#bd3786"
             ],
             [
              0.5555555555555556,
              "#d8576b"
             ],
             [
              0.6666666666666666,
              "#ed7953"
             ],
             [
              0.7777777777777778,
              "#fb9f3a"
             ],
             [
              0.8888888888888888,
              "#fdca26"
             ],
             [
              1,
              "#f0f921"
             ]
            ],
            "type": "heatmapgl"
           }
          ],
          "histogram": [
           {
            "marker": {
             "pattern": {
              "fillmode": "overlay",
              "size": 10,
              "solidity": 0.2
             }
            },
            "type": "histogram"
           }
          ],
          "histogram2d": [
           {
            "colorbar": {
             "outlinewidth": 0,
             "ticks": ""
            },
            "colorscale": [
             [
              0,
              "#0d0887"
             ],
             [
              0.1111111111111111,
              "#46039f"
             ],
             [
              0.2222222222222222,
              "#7201a8"
             ],
             [
              0.3333333333333333,
              "#9c179e"
             ],
             [
              0.4444444444444444,
              "#bd3786"
             ],
             [
              0.5555555555555556,
              "#d8576b"
             ],
             [
              0.6666666666666666,
              "#ed7953"
             ],
             [
              0.7777777777777778,
              "#fb9f3a"
             ],
             [
              0.8888888888888888,
              "#fdca26"
             ],
             [
              1,
              "#f0f921"
             ]
            ],
            "type": "histogram2d"
           }
          ],
          "histogram2dcontour": [
           {
            "colorbar": {
             "outlinewidth": 0,
             "ticks": ""
            },
            "colorscale": [
             [
              0,
              "#0d0887"
             ],
             [
              0.1111111111111111,
              "#46039f"
             ],
             [
              0.2222222222222222,
              "#7201a8"
             ],
             [
              0.3333333333333333,
              "#9c179e"
             ],
             [
              0.4444444444444444,
              "#bd3786"
             ],
             [
              0.5555555555555556,
              "#d8576b"
             ],
             [
              0.6666666666666666,
              "#ed7953"
             ],
             [
              0.7777777777777778,
              "#fb9f3a"
             ],
             [
              0.8888888888888888,
              "#fdca26"
             ],
             [
              1,
              "#f0f921"
             ]
            ],
            "type": "histogram2dcontour"
           }
          ],
          "mesh3d": [
           {
            "colorbar": {
             "outlinewidth": 0,
             "ticks": ""
            },
            "type": "mesh3d"
           }
          ],
          "parcoords": [
           {
            "line": {
             "colorbar": {
              "outlinewidth": 0,
              "ticks": ""
             }
            },
            "type": "parcoords"
           }
          ],
          "pie": [
           {
            "automargin": true,
            "type": "pie"
           }
          ],
          "scatter": [
           {
            "fillpattern": {
             "fillmode": "overlay",
             "size": 10,
             "solidity": 0.2
            },
            "type": "scatter"
           }
          ],
          "scatter3d": [
           {
            "line": {
             "colorbar": {
              "outlinewidth": 0,
              "ticks": ""
             }
            },
            "marker": {
             "colorbar": {
              "outlinewidth": 0,
              "ticks": ""
             }
            },
            "type": "scatter3d"
           }
          ],
          "scattercarpet": [
           {
            "marker": {
             "colorbar": {
              "outlinewidth": 0,
              "ticks": ""
             }
            },
            "type": "scattercarpet"
           }
          ],
          "scattergeo": [
           {
            "marker": {
             "colorbar": {
              "outlinewidth": 0,
              "ticks": ""
             }
            },
            "type": "scattergeo"
           }
          ],
          "scattergl": [
           {
            "marker": {
             "colorbar": {
              "outlinewidth": 0,
              "ticks": ""
             }
            },
            "type": "scattergl"
           }
          ],
          "scattermapbox": [
           {
            "marker": {
             "colorbar": {
              "outlinewidth": 0,
              "ticks": ""
             }
            },
            "type": "scattermapbox"
           }
          ],
          "scatterpolar": [
           {
            "marker": {
             "colorbar": {
              "outlinewidth": 0,
              "ticks": ""
             }
            },
            "type": "scatterpolar"
           }
          ],
          "scatterpolargl": [
           {
            "marker": {
             "colorbar": {
              "outlinewidth": 0,
              "ticks": ""
             }
            },
            "type": "scatterpolargl"
           }
          ],
          "scatterternary": [
           {
            "marker": {
             "colorbar": {
              "outlinewidth": 0,
              "ticks": ""
             }
            },
            "type": "scatterternary"
           }
          ],
          "surface": [
           {
            "colorbar": {
             "outlinewidth": 0,
             "ticks": ""
            },
            "colorscale": [
             [
              0,
              "#0d0887"
             ],
             [
              0.1111111111111111,
              "#46039f"
             ],
             [
              0.2222222222222222,
              "#7201a8"
             ],
             [
              0.3333333333333333,
              "#9c179e"
             ],
             [
              0.4444444444444444,
              "#bd3786"
             ],
             [
              0.5555555555555556,
              "#d8576b"
             ],
             [
              0.6666666666666666,
              "#ed7953"
             ],
             [
              0.7777777777777778,
              "#fb9f3a"
             ],
             [
              0.8888888888888888,
              "#fdca26"
             ],
             [
              1,
              "#f0f921"
             ]
            ],
            "type": "surface"
           }
          ],
          "table": [
           {
            "cells": {
             "fill": {
              "color": "#EBF0F8"
             },
             "line": {
              "color": "white"
             }
            },
            "header": {
             "fill": {
              "color": "#C8D4E3"
             },
             "line": {
              "color": "white"
             }
            },
            "type": "table"
           }
          ]
         },
         "layout": {
          "annotationdefaults": {
           "arrowcolor": "#2a3f5f",
           "arrowhead": 0,
           "arrowwidth": 1
          },
          "autotypenumbers": "strict",
          "coloraxis": {
           "colorbar": {
            "outlinewidth": 0,
            "ticks": ""
           }
          },
          "colorscale": {
           "diverging": [
            [
             0,
             "#8e0152"
            ],
            [
             0.1,
             "#c51b7d"
            ],
            [
             0.2,
             "#de77ae"
            ],
            [
             0.3,
             "#f1b6da"
            ],
            [
             0.4,
             "#fde0ef"
            ],
            [
             0.5,
             "#f7f7f7"
            ],
            [
             0.6,
             "#e6f5d0"
            ],
            [
             0.7,
             "#b8e186"
            ],
            [
             0.8,
             "#7fbc41"
            ],
            [
             0.9,
             "#4d9221"
            ],
            [
             1,
             "#276419"
            ]
           ],
           "sequential": [
            [
             0,
             "#0d0887"
            ],
            [
             0.1111111111111111,
             "#46039f"
            ],
            [
             0.2222222222222222,
             "#7201a8"
            ],
            [
             0.3333333333333333,
             "#9c179e"
            ],
            [
             0.4444444444444444,
             "#bd3786"
            ],
            [
             0.5555555555555556,
             "#d8576b"
            ],
            [
             0.6666666666666666,
             "#ed7953"
            ],
            [
             0.7777777777777778,
             "#fb9f3a"
            ],
            [
             0.8888888888888888,
             "#fdca26"
            ],
            [
             1,
             "#f0f921"
            ]
           ],
           "sequentialminus": [
            [
             0,
             "#0d0887"
            ],
            [
             0.1111111111111111,
             "#46039f"
            ],
            [
             0.2222222222222222,
             "#7201a8"
            ],
            [
             0.3333333333333333,
             "#9c179e"
            ],
            [
             0.4444444444444444,
             "#bd3786"
            ],
            [
             0.5555555555555556,
             "#d8576b"
            ],
            [
             0.6666666666666666,
             "#ed7953"
            ],
            [
             0.7777777777777778,
             "#fb9f3a"
            ],
            [
             0.8888888888888888,
             "#fdca26"
            ],
            [
             1,
             "#f0f921"
            ]
           ]
          },
          "colorway": [
           "#636efa",
           "#EF553B",
           "#00cc96",
           "#ab63fa",
           "#FFA15A",
           "#19d3f3",
           "#FF6692",
           "#B6E880",
           "#FF97FF",
           "#FECB52"
          ],
          "font": {
           "color": "#2a3f5f"
          },
          "geo": {
           "bgcolor": "white",
           "lakecolor": "white",
           "landcolor": "#E5ECF6",
           "showlakes": true,
           "showland": true,
           "subunitcolor": "white"
          },
          "hoverlabel": {
           "align": "left"
          },
          "hovermode": "closest",
          "mapbox": {
           "style": "light"
          },
          "paper_bgcolor": "white",
          "plot_bgcolor": "#E5ECF6",
          "polar": {
           "angularaxis": {
            "gridcolor": "white",
            "linecolor": "white",
            "ticks": ""
           },
           "bgcolor": "#E5ECF6",
           "radialaxis": {
            "gridcolor": "white",
            "linecolor": "white",
            "ticks": ""
           }
          },
          "scene": {
           "xaxis": {
            "backgroundcolor": "#E5ECF6",
            "gridcolor": "white",
            "gridwidth": 2,
            "linecolor": "white",
            "showbackground": true,
            "ticks": "",
            "zerolinecolor": "white"
           },
           "yaxis": {
            "backgroundcolor": "#E5ECF6",
            "gridcolor": "white",
            "gridwidth": 2,
            "linecolor": "white",
            "showbackground": true,
            "ticks": "",
            "zerolinecolor": "white"
           },
           "zaxis": {
            "backgroundcolor": "#E5ECF6",
            "gridcolor": "white",
            "gridwidth": 2,
            "linecolor": "white",
            "showbackground": true,
            "ticks": "",
            "zerolinecolor": "white"
           }
          },
          "shapedefaults": {
           "line": {
            "color": "#2a3f5f"
           }
          },
          "ternary": {
           "aaxis": {
            "gridcolor": "white",
            "linecolor": "white",
            "ticks": ""
           },
           "baxis": {
            "gridcolor": "white",
            "linecolor": "white",
            "ticks": ""
           },
           "bgcolor": "#E5ECF6",
           "caxis": {
            "gridcolor": "white",
            "linecolor": "white",
            "ticks": ""
           }
          },
          "title": {
           "x": 0.05
          },
          "xaxis": {
           "automargin": true,
           "gridcolor": "white",
           "linecolor": "white",
           "ticks": "",
           "title": {
            "standoff": 15
           },
           "zerolinecolor": "white",
           "zerolinewidth": 2
          },
          "yaxis": {
           "automargin": true,
           "gridcolor": "white",
           "linecolor": "white",
           "ticks": "",
           "title": {
            "standoff": 15
           },
           "zerolinecolor": "white",
           "zerolinewidth": 2
          }
         }
        },
        "xaxis": {
         "anchor": "y",
         "domain": [
          0,
          1
         ],
         "range": [
          0,
          10
         ],
         "title": {
          "text": "BA_Ratio"
         }
        },
        "yaxis": {
         "anchor": "x",
         "domain": [
          0,
          1
         ],
         "title": {
          "text": "count"
         }
        }
       }
      }
     },
     "metadata": {},
     "output_type": "display_data"
    },
    {
     "data": {
      "application/vnd.plotly.v1+json": {
       "config": {
        "plotlyServerURL": "https://plot.ly"
       },
       "data": [
        {
         "alignmentgroup": "True",
         "bingroup": "x",
         "hovertemplate": "BA_Ratio=%{x}<br>count=%{y}<extra></extra>",
         "legendgroup": "",
         "marker": {
          "color": "#636efa",
          "pattern": {
           "shape": ""
          }
         },
         "name": "",
         "nbinsx": 240,
         "offsetgroup": "",
         "orientation": "v",
         "showlegend": false,
         "type": "histogram",
         "x": [
          1.0072176866069995,
          1.0165909878432617,
          1.017970123807798,
          1.027020937956496,
          1.0278555594721297,
          1.0410754343576023,
          1.0420048853345054,
          1.0515775920911368,
          1.0546731032744798,
          1.0570808505165687,
          1.0588011261739012,
          1.0588805324296982,
          1.0636424194497143,
          1.0686928550680808,
          1.0826161790017212,
          1.0909275219875754,
          1.1016912522692912,
          1.1023870412049925,
          1.1070701161788663,
          1.1124698141984213,
          1.1210161589065593,
          1.1412861315051226,
          1.1429909807520264,
          1.1433003088883835,
          1.1635381904508293,
          1.1650979872296237,
          1.1676412145675767,
          1.1697352821267402,
          1.1721467925328954,
          1.1726411628123252,
          1.176807142437104,
          1.185243403868721,
          1.187514855820354,
          1.1966443817270649,
          1.1991217222464443,
          1.209424086792928,
          1.2213511266416794,
          1.222517618357019,
          1.2264772483016833,
          1.2379376933330186,
          1.2385511790919137,
          1.239992758919387,
          1.2428447802919915,
          1.2583029766115508,
          1.2600162136792252,
          1.2669943486489765,
          1.2892645612751263,
          1.2909017798279243,
          1.302187024102093,
          1.3108979293356942,
          1.312889311408181,
          1.3268618576659474,
          1.3273431775721367,
          1.3386614381877529,
          1.3407488268502694,
          1.3473809178668612,
          1.3587520115951592,
          1.3710099396822701,
          1.3735719679806675,
          1.379389260726328,
          1.3872723034997132,
          1.3965816128646689,
          1.4147571969275738,
          1.4184055043205734,
          1.4242037314845377,
          1.4350284331597505,
          1.4913655640373198,
          1.4917803673009595,
          1.4963695128050745,
          1.5061994647932566,
          1.5069862288135594,
          1.5166174558590262,
          1.5168981432830964,
          1.5260796679701398,
          1.528892328992625,
          1.5322640464207915,
          1.5906690208463417,
          1.6110489005156414,
          1.6135571286439554,
          1.6203632896966031,
          1.6399666617021236,
          1.6453929997211203,
          1.6567142423322199,
          1.6753612010931491,
          1.6780496938302831,
          1.6878186435950724,
          1.718468859975664,
          1.7244776394202521,
          1.7493664475363169,
          1.7540990440195643,
          1.8376501912038679,
          1.8433086242495893,
          1.8462423244606128,
          1.8713663054920249,
          1.8905402235284252,
          1.8930588547822638,
          1.902707098621295,
          1.9144579360812266,
          1.9213875353750485,
          1.933297575784112,
          1.9336704713403015,
          1.952180488330427,
          2.011903028720889,
          2.0393058782602367,
          2.1004233361094204,
          2.1493090216245965,
          2.2058690964060106,
          2.2136703669335898,
          2.231380209703441,
          2.2332396932655074,
          2.2510690774881557,
          2.290620715860758,
          2.3417380526917344,
          2.4199453551912566,
          2.4302031582682755,
          2.446778472458199,
          2.451656585755055,
          2.5513586501923857,
          2.568207363622359,
          2.6268666796850337,
          2.6964125286104212,
          2.716561079693301,
          2.7244053103044807,
          2.748527556158553,
          2.8265209941811995,
          2.8714179573438665,
          2.879099416892681,
          2.908058626414855,
          2.9409970019399214,
          2.980882381806237,
          3.076178000148202,
          3.0860218869107285,
          3.0972032555852955,
          3.1437105658271998,
          3.165040472310528,
          3.1670424377899944,
          3.3389461672173346,
          3.366210946674332,
          3.515256739348403,
          3.5463777410706627,
          3.5833935179526257,
          3.6738936401100184,
          3.690726298781775,
          3.7956568497746663,
          3.87532121734131,
          3.8947463084834086,
          4.093182219471731,
          4.343478712978922,
          4.36608298183407,
          4.4604268383073755,
          4.552178640958333,
          4.564431880043375,
          4.76850073418066,
          4.830736966039957,
          5.082241057953896,
          5.2145053955809795,
          5.280957395820766,
          5.489244508616426,
          5.506899848248231,
          5.677011958304762,
          5.709357750921291,
          5.802240730144602,
          6.359876915061624,
          6.477268538233219,
          6.578048012242901,
          7.029964542250514,
          7.715038263288258,
          8.239333037812964,
          8.275573158656409,
          8.31520185721344,
          8.72311076246723,
          8.800719577743811,
          8.958151690945362,
          9.314860748551377,
          9.488358522435863,
          11.809087174626791,
          11.855627616154571,
          11.879983503278012,
          12.38006251008819,
          12.396165295928151,
          13.044058496580986,
          14.425771481866967,
          17.87269506383584,
          18.06026508890309,
          18.64716923222212,
          18.748666168832337,
          19.125208943986834,
          19.73937273909298,
          20.467710668649605,
          30.818307106326007,
          31.8976372918202,
          32.312457417794995
         ],
         "xaxis": "x",
         "yaxis": "y"
        }
       ],
       "layout": {
        "barmode": "relative",
        "legend": {
         "tracegroupgap": 0
        },
        "margin": {
         "t": 60
        },
        "template": {
         "data": {
          "bar": [
           {
            "error_x": {
             "color": "#2a3f5f"
            },
            "error_y": {
             "color": "#2a3f5f"
            },
            "marker": {
             "line": {
              "color": "#E5ECF6",
              "width": 0.5
             },
             "pattern": {
              "fillmode": "overlay",
              "size": 10,
              "solidity": 0.2
             }
            },
            "type": "bar"
           }
          ],
          "barpolar": [
           {
            "marker": {
             "line": {
              "color": "#E5ECF6",
              "width": 0.5
             },
             "pattern": {
              "fillmode": "overlay",
              "size": 10,
              "solidity": 0.2
             }
            },
            "type": "barpolar"
           }
          ],
          "carpet": [
           {
            "aaxis": {
             "endlinecolor": "#2a3f5f",
             "gridcolor": "white",
             "linecolor": "white",
             "minorgridcolor": "white",
             "startlinecolor": "#2a3f5f"
            },
            "baxis": {
             "endlinecolor": "#2a3f5f",
             "gridcolor": "white",
             "linecolor": "white",
             "minorgridcolor": "white",
             "startlinecolor": "#2a3f5f"
            },
            "type": "carpet"
           }
          ],
          "choropleth": [
           {
            "colorbar": {
             "outlinewidth": 0,
             "ticks": ""
            },
            "type": "choropleth"
           }
          ],
          "contour": [
           {
            "colorbar": {
             "outlinewidth": 0,
             "ticks": ""
            },
            "colorscale": [
             [
              0,
              "#0d0887"
             ],
             [
              0.1111111111111111,
              "#46039f"
             ],
             [
              0.2222222222222222,
              "#7201a8"
             ],
             [
              0.3333333333333333,
              "#9c179e"
             ],
             [
              0.4444444444444444,
              "#bd3786"
             ],
             [
              0.5555555555555556,
              "#d8576b"
             ],
             [
              0.6666666666666666,
              "#ed7953"
             ],
             [
              0.7777777777777778,
              "#fb9f3a"
             ],
             [
              0.8888888888888888,
              "#fdca26"
             ],
             [
              1,
              "#f0f921"
             ]
            ],
            "type": "contour"
           }
          ],
          "contourcarpet": [
           {
            "colorbar": {
             "outlinewidth": 0,
             "ticks": ""
            },
            "type": "contourcarpet"
           }
          ],
          "heatmap": [
           {
            "colorbar": {
             "outlinewidth": 0,
             "ticks": ""
            },
            "colorscale": [
             [
              0,
              "#0d0887"
             ],
             [
              0.1111111111111111,
              "#46039f"
             ],
             [
              0.2222222222222222,
              "#7201a8"
             ],
             [
              0.3333333333333333,
              "#9c179e"
             ],
             [
              0.4444444444444444,
              "#bd3786"
             ],
             [
              0.5555555555555556,
              "#d8576b"
             ],
             [
              0.6666666666666666,
              "#ed7953"
             ],
             [
              0.7777777777777778,
              "#fb9f3a"
             ],
             [
              0.8888888888888888,
              "#fdca26"
             ],
             [
              1,
              "#f0f921"
             ]
            ],
            "type": "heatmap"
           }
          ],
          "heatmapgl": [
           {
            "colorbar": {
             "outlinewidth": 0,
             "ticks": ""
            },
            "colorscale": [
             [
              0,
              "#0d0887"
             ],
             [
              0.1111111111111111,
              "#46039f"
             ],
             [
              0.2222222222222222,
              "#7201a8"
             ],
             [
              0.3333333333333333,
              "#9c179e"
             ],
             [
              0.4444444444444444,
              "#bd3786"
             ],
             [
              0.5555555555555556,
              "#d8576b"
             ],
             [
              0.6666666666666666,
              "#ed7953"
             ],
             [
              0.7777777777777778,
              "#fb9f3a"
             ],
             [
              0.8888888888888888,
              "#fdca26"
             ],
             [
              1,
              "#f0f921"
             ]
            ],
            "type": "heatmapgl"
           }
          ],
          "histogram": [
           {
            "marker": {
             "pattern": {
              "fillmode": "overlay",
              "size": 10,
              "solidity": 0.2
             }
            },
            "type": "histogram"
           }
          ],
          "histogram2d": [
           {
            "colorbar": {
             "outlinewidth": 0,
             "ticks": ""
            },
            "colorscale": [
             [
              0,
              "#0d0887"
             ],
             [
              0.1111111111111111,
              "#46039f"
             ],
             [
              0.2222222222222222,
              "#7201a8"
             ],
             [
              0.3333333333333333,
              "#9c179e"
             ],
             [
              0.4444444444444444,
              "#bd3786"
             ],
             [
              0.5555555555555556,
              "#d8576b"
             ],
             [
              0.6666666666666666,
              "#ed7953"
             ],
             [
              0.7777777777777778,
              "#fb9f3a"
             ],
             [
              0.8888888888888888,
              "#fdca26"
             ],
             [
              1,
              "#f0f921"
             ]
            ],
            "type": "histogram2d"
           }
          ],
          "histogram2dcontour": [
           {
            "colorbar": {
             "outlinewidth": 0,
             "ticks": ""
            },
            "colorscale": [
             [
              0,
              "#0d0887"
             ],
             [
              0.1111111111111111,
              "#46039f"
             ],
             [
              0.2222222222222222,
              "#7201a8"
             ],
             [
              0.3333333333333333,
              "#9c179e"
             ],
             [
              0.4444444444444444,
              "#bd3786"
             ],
             [
              0.5555555555555556,
              "#d8576b"
             ],
             [
              0.6666666666666666,
              "#ed7953"
             ],
             [
              0.7777777777777778,
              "#fb9f3a"
             ],
             [
              0.8888888888888888,
              "#fdca26"
             ],
             [
              1,
              "#f0f921"
             ]
            ],
            "type": "histogram2dcontour"
           }
          ],
          "mesh3d": [
           {
            "colorbar": {
             "outlinewidth": 0,
             "ticks": ""
            },
            "type": "mesh3d"
           }
          ],
          "parcoords": [
           {
            "line": {
             "colorbar": {
              "outlinewidth": 0,
              "ticks": ""
             }
            },
            "type": "parcoords"
           }
          ],
          "pie": [
           {
            "automargin": true,
            "type": "pie"
           }
          ],
          "scatter": [
           {
            "fillpattern": {
             "fillmode": "overlay",
             "size": 10,
             "solidity": 0.2
            },
            "type": "scatter"
           }
          ],
          "scatter3d": [
           {
            "line": {
             "colorbar": {
              "outlinewidth": 0,
              "ticks": ""
             }
            },
            "marker": {
             "colorbar": {
              "outlinewidth": 0,
              "ticks": ""
             }
            },
            "type": "scatter3d"
           }
          ],
          "scattercarpet": [
           {
            "marker": {
             "colorbar": {
              "outlinewidth": 0,
              "ticks": ""
             }
            },
            "type": "scattercarpet"
           }
          ],
          "scattergeo": [
           {
            "marker": {
             "colorbar": {
              "outlinewidth": 0,
              "ticks": ""
             }
            },
            "type": "scattergeo"
           }
          ],
          "scattergl": [
           {
            "marker": {
             "colorbar": {
              "outlinewidth": 0,
              "ticks": ""
             }
            },
            "type": "scattergl"
           }
          ],
          "scattermapbox": [
           {
            "marker": {
             "colorbar": {
              "outlinewidth": 0,
              "ticks": ""
             }
            },
            "type": "scattermapbox"
           }
          ],
          "scatterpolar": [
           {
            "marker": {
             "colorbar": {
              "outlinewidth": 0,
              "ticks": ""
             }
            },
            "type": "scatterpolar"
           }
          ],
          "scatterpolargl": [
           {
            "marker": {
             "colorbar": {
              "outlinewidth": 0,
              "ticks": ""
             }
            },
            "type": "scatterpolargl"
           }
          ],
          "scatterternary": [
           {
            "marker": {
             "colorbar": {
              "outlinewidth": 0,
              "ticks": ""
             }
            },
            "type": "scatterternary"
           }
          ],
          "surface": [
           {
            "colorbar": {
             "outlinewidth": 0,
             "ticks": ""
            },
            "colorscale": [
             [
              0,
              "#0d0887"
             ],
             [
              0.1111111111111111,
              "#46039f"
             ],
             [
              0.2222222222222222,
              "#7201a8"
             ],
             [
              0.3333333333333333,
              "#9c179e"
             ],
             [
              0.4444444444444444,
              "#bd3786"
             ],
             [
              0.5555555555555556,
              "#d8576b"
             ],
             [
              0.6666666666666666,
              "#ed7953"
             ],
             [
              0.7777777777777778,
              "#fb9f3a"
             ],
             [
              0.8888888888888888,
              "#fdca26"
             ],
             [
              1,
              "#f0f921"
             ]
            ],
            "type": "surface"
           }
          ],
          "table": [
           {
            "cells": {
             "fill": {
              "color": "#EBF0F8"
             },
             "line": {
              "color": "white"
             }
            },
            "header": {
             "fill": {
              "color": "#C8D4E3"
             },
             "line": {
              "color": "white"
             }
            },
            "type": "table"
           }
          ]
         },
         "layout": {
          "annotationdefaults": {
           "arrowcolor": "#2a3f5f",
           "arrowhead": 0,
           "arrowwidth": 1
          },
          "autotypenumbers": "strict",
          "coloraxis": {
           "colorbar": {
            "outlinewidth": 0,
            "ticks": ""
           }
          },
          "colorscale": {
           "diverging": [
            [
             0,
             "#8e0152"
            ],
            [
             0.1,
             "#c51b7d"
            ],
            [
             0.2,
             "#de77ae"
            ],
            [
             0.3,
             "#f1b6da"
            ],
            [
             0.4,
             "#fde0ef"
            ],
            [
             0.5,
             "#f7f7f7"
            ],
            [
             0.6,
             "#e6f5d0"
            ],
            [
             0.7,
             "#b8e186"
            ],
            [
             0.8,
             "#7fbc41"
            ],
            [
             0.9,
             "#4d9221"
            ],
            [
             1,
             "#276419"
            ]
           ],
           "sequential": [
            [
             0,
             "#0d0887"
            ],
            [
             0.1111111111111111,
             "#46039f"
            ],
            [
             0.2222222222222222,
             "#7201a8"
            ],
            [
             0.3333333333333333,
             "#9c179e"
            ],
            [
             0.4444444444444444,
             "#bd3786"
            ],
            [
             0.5555555555555556,
             "#d8576b"
            ],
            [
             0.6666666666666666,
             "#ed7953"
            ],
            [
             0.7777777777777778,
             "#fb9f3a"
            ],
            [
             0.8888888888888888,
             "#fdca26"
            ],
            [
             1,
             "#f0f921"
            ]
           ],
           "sequentialminus": [
            [
             0,
             "#0d0887"
            ],
            [
             0.1111111111111111,
             "#46039f"
            ],
            [
             0.2222222222222222,
             "#7201a8"
            ],
            [
             0.3333333333333333,
             "#9c179e"
            ],
            [
             0.4444444444444444,
             "#bd3786"
            ],
            [
             0.5555555555555556,
             "#d8576b"
            ],
            [
             0.6666666666666666,
             "#ed7953"
            ],
            [
             0.7777777777777778,
             "#fb9f3a"
            ],
            [
             0.8888888888888888,
             "#fdca26"
            ],
            [
             1,
             "#f0f921"
            ]
           ]
          },
          "colorway": [
           "#636efa",
           "#EF553B",
           "#00cc96",
           "#ab63fa",
           "#FFA15A",
           "#19d3f3",
           "#FF6692",
           "#B6E880",
           "#FF97FF",
           "#FECB52"
          ],
          "font": {
           "color": "#2a3f5f"
          },
          "geo": {
           "bgcolor": "white",
           "lakecolor": "white",
           "landcolor": "#E5ECF6",
           "showlakes": true,
           "showland": true,
           "subunitcolor": "white"
          },
          "hoverlabel": {
           "align": "left"
          },
          "hovermode": "closest",
          "mapbox": {
           "style": "light"
          },
          "paper_bgcolor": "white",
          "plot_bgcolor": "#E5ECF6",
          "polar": {
           "angularaxis": {
            "gridcolor": "white",
            "linecolor": "white",
            "ticks": ""
           },
           "bgcolor": "#E5ECF6",
           "radialaxis": {
            "gridcolor": "white",
            "linecolor": "white",
            "ticks": ""
           }
          },
          "scene": {
           "xaxis": {
            "backgroundcolor": "#E5ECF6",
            "gridcolor": "white",
            "gridwidth": 2,
            "linecolor": "white",
            "showbackground": true,
            "ticks": "",
            "zerolinecolor": "white"
           },
           "yaxis": {
            "backgroundcolor": "#E5ECF6",
            "gridcolor": "white",
            "gridwidth": 2,
            "linecolor": "white",
            "showbackground": true,
            "ticks": "",
            "zerolinecolor": "white"
           },
           "zaxis": {
            "backgroundcolor": "#E5ECF6",
            "gridcolor": "white",
            "gridwidth": 2,
            "linecolor": "white",
            "showbackground": true,
            "ticks": "",
            "zerolinecolor": "white"
           }
          },
          "shapedefaults": {
           "line": {
            "color": "#2a3f5f"
           }
          },
          "ternary": {
           "aaxis": {
            "gridcolor": "white",
            "linecolor": "white",
            "ticks": ""
           },
           "baxis": {
            "gridcolor": "white",
            "linecolor": "white",
            "ticks": ""
           },
           "bgcolor": "#E5ECF6",
           "caxis": {
            "gridcolor": "white",
            "linecolor": "white",
            "ticks": ""
           }
          },
          "title": {
           "x": 0.05
          },
          "xaxis": {
           "automargin": true,
           "gridcolor": "white",
           "linecolor": "white",
           "ticks": "",
           "title": {
            "standoff": 15
           },
           "zerolinecolor": "white",
           "zerolinewidth": 2
          },
          "yaxis": {
           "automargin": true,
           "gridcolor": "white",
           "linecolor": "white",
           "ticks": "",
           "title": {
            "standoff": 15
           },
           "zerolinecolor": "white",
           "zerolinewidth": 2
          }
         }
        },
        "xaxis": {
         "anchor": "y",
         "domain": [
          0,
          1
         ],
         "range": [
          0,
          10
         ],
         "title": {
          "text": "BA_Ratio"
         }
        },
        "yaxis": {
         "anchor": "x",
         "domain": [
          0,
          1
         ],
         "title": {
          "text": "count"
         }
        }
       }
      }
     },
     "metadata": {},
     "output_type": "display_data"
    }
   ],
   "source": [
    "import pandas as pd\n",
    "\n",
    "with database_connection() as conn:\n",
    "    ephem = pd.read_sql(\"\"\"select t.target_name, ea.period Period_A, eb.period Period_B, eb.period / ea.period BA_Ratio\n",
    "    from targets t\n",
    "    join ephemerides ea on t.target_name = ea.target_name and ea.system = 'A' and ea.member = 'a'\n",
    "    join ephemerides eb on t.target_name = eb.target_name and eb.system = 'B' and eb.member = 'a'\n",
    "    where t.target_source like '%Kostov%' and t.target_type = 'QuadEB'\n",
    "    order by eb.period / ea.period\n",
    "    ;\"\"\", conn)\n",
    "\n",
    "import plotly.express as px\n",
    "\n",
    "display(px.scatter(ephem, x=\"Period_A\", y=\"BA_Ratio\"))\n",
    "display(px.histogram( ephem, x=\"BA_Ratio\", range_x=[0, 10], nbins=120))\n",
    "display(px.histogram( ephem, x=\"BA_Ratio\", range_x=[0, 10], nbins=240))"
   ]
  },
  {
   "cell_type": "markdown",
   "metadata": {},
   "source": [
    "After going through the entire proposal process, the PIT software had problems with specific targets.  Remove them. "
   ]
  },
  {
   "cell_type": "markdown",
   "metadata": {},
   "source": [
    "* Start the PIT and open the file `Gemini 2026A Proposal BASE.xml`\n",
    "  * This base file has investigators, title, and other fields already populated\n",
    "* Import the target list created above into the PIT\n",
    "* In targets tab, sort by Dec\n",
    "* Select & Copy all targets Dec < -10\n",
    "* Switch to Observations tab and Paste\n",
    "* Specify weather conditions and Zorro speckle (South)\n",
    "* Select & Copy all targets Dec > -10\n",
    "* Switch to Observations tab and Paste\n",
    "* Specify weather conditions and `Alopeke speckle (North)\n",
    "* Do a Save As in the PIT, to the file `Gemini 2026A Proposal TARGETS.xml`\n",
    "* The below code will add observing times for each target to the xml file"
   ]
  },
  {
   "cell_type": "code",
   "execution_count": 8,
   "metadata": {},
   "outputs": [
    {
     "data": {
      "text/plain": [
       "{'iq70': 21.423775626666682, 'iq85': 34.74545925333333}"
      ]
     },
     "execution_count": 8,
     "metadata": {},
     "output_type": "execute_result"
    }
   ],
   "source": [
    "# edit the xml file saved by the PIT and add observation times\n",
    "import xml.etree.ElementTree as ET\n",
    "\n",
    "filename = \"Gemini 2026A Proposal\"\n",
    "\n",
    "# first, get observation times for all targets (in hours, because that's all PIT accepts)\n",
    "target_times = {\n",
    "    str(name): (iq70 / 3600, iq85 / 3600)\n",
    "    for _, (name, iq70, iq85) in proposal_targets[\n",
    "        [\"Target Name\", \"gemini_iq70_speckle_program_time\", \"gemini_iq85_speckle_program_time\"]\n",
    "    ].iterrows()\n",
    "}\n",
    "\n",
    "# for each weather condition:\n",
    "# get the mapping of the nickname used in xml file to the TIC name\n",
    "# then walk through each observation entry and add observing time to it for the appropriate conditions\n",
    "tot = {\"iq70\": 0.0, \"iq85\": 0.0}\n",
    "for index, name in enumerate([\"iq70\", \"iq85\"]):\n",
    "    tree = ET.parse(f\"{filename} TARGETS.xml\")\n",
    "    root = tree.getroot()\n",
    "    target_map = {}\n",
    "    for target in root.findall(\"targets/sidereal\"):\n",
    "        designator = target.attrib[\"id\"]\n",
    "        nickname = target.find(\"name\").text\n",
    "        target_map[designator] = nickname\n",
    "\n",
    "    for observation in root.findall(\"observations/observation\"):\n",
    "        target_name = target_map[observation.attrib[\"target\"]]\n",
    "        target_time = target_times[target_name][index]\n",
    "        tot[name] += target_time\n",
    "        target_time_text = f\"{target_time:.3f}\"\n",
    "        progTime = ET.Element(\"progTime\")\n",
    "        progTime.set(\"units\", \"s\")\n",
    "        progTime.text = target_time_text\n",
    "        observation.append(progTime)\n",
    "        time = ET.Element(\"time\")\n",
    "        time.set(\"units\", \"s\")\n",
    "        time.text = target_time_text\n",
    "        observation.append(time)\n",
    "    tree.write(f\"{filename} {name}.xml\")\n",
    "\n",
    "tot"
   ]
  },
  {
   "cell_type": "markdown",
   "metadata": {},
   "source": [
    "* Use the above xml editing code to apply exposure times\n",
    "* Make copy of the iq70 file with a band3 suffix\n",
    "* Open the iq85 file and copy all the `<observation>` nodes\n",
    "* Rename `Band 1/2` to `Band 3` for all nodes\n",
    "* Paste these new band 3 nodes below the band 1/2 nodes in the new band3 file created above"
   ]
  },
  {
   "cell_type": "code",
   "execution_count": 6,
   "metadata": {},
   "outputs": [
    {
     "name": "stdout",
     "output_type": "stream",
     "text": [
      "\\begin{tabular}{lrrrrrr}\n",
      "Observatory & \\multicolumn{2}{r}{South} & \\multicolumn{2}{r}{Both} & \\multicolumn{2}{r}{North} \\\\\n",
      " & Count & Hours & Count & Hours & Count & Hours \\\\\n",
      "Group Category &  &  &  &  &  &  \\\\\n",
      "Faint ($V > 12$) & 17 & 4.95 & 22 & 6.01 & 19 & 4.93 \\\\\n",
      "HQUS & 13 & 3.08 & 1 & 0.20 & 10 & 2.25 \\\\\n",
      "Total & 30 & 8.02 & 23 & 6.21 & 29 & 7.19 \\\\\n",
      "\\end{tabular}\n",
      "\n"
     ]
    },
    {
     "data": {
      "text/html": [
       "<style type=\"text/css\">\n",
       "</style>\n",
       "<table id=\"T_7c090\">\n",
       "  <thead>\n",
       "    <tr>\n",
       "      <th class=\"index_name level0\" >Observatory</th>\n",
       "      <th id=\"T_7c090_level0_col0\" class=\"col_heading level0 col0\" colspan=\"2\">South</th>\n",
       "      <th id=\"T_7c090_level0_col2\" class=\"col_heading level0 col2\" colspan=\"2\">Both</th>\n",
       "      <th id=\"T_7c090_level0_col4\" class=\"col_heading level0 col4\" colspan=\"2\">North</th>\n",
       "    </tr>\n",
       "    <tr>\n",
       "      <th class=\"blank level1\" >&nbsp;</th>\n",
       "      <th id=\"T_7c090_level1_col0\" class=\"col_heading level1 col0\" >Count</th>\n",
       "      <th id=\"T_7c090_level1_col1\" class=\"col_heading level1 col1\" >Hours</th>\n",
       "      <th id=\"T_7c090_level1_col2\" class=\"col_heading level1 col2\" >Count</th>\n",
       "      <th id=\"T_7c090_level1_col3\" class=\"col_heading level1 col3\" >Hours</th>\n",
       "      <th id=\"T_7c090_level1_col4\" class=\"col_heading level1 col4\" >Count</th>\n",
       "      <th id=\"T_7c090_level1_col5\" class=\"col_heading level1 col5\" >Hours</th>\n",
       "    </tr>\n",
       "    <tr>\n",
       "      <th class=\"index_name level0\" >Group Category</th>\n",
       "      <th class=\"blank col0\" >&nbsp;</th>\n",
       "      <th class=\"blank col1\" >&nbsp;</th>\n",
       "      <th class=\"blank col2\" >&nbsp;</th>\n",
       "      <th class=\"blank col3\" >&nbsp;</th>\n",
       "      <th class=\"blank col4\" >&nbsp;</th>\n",
       "      <th class=\"blank col5\" >&nbsp;</th>\n",
       "    </tr>\n",
       "  </thead>\n",
       "  <tbody>\n",
       "    <tr>\n",
       "      <th id=\"T_7c090_level0_row0\" class=\"row_heading level0 row0\" >Faint ($V > 12$)</th>\n",
       "      <td id=\"T_7c090_row0_col0\" class=\"data row0 col0\" >17</td>\n",
       "      <td id=\"T_7c090_row0_col1\" class=\"data row0 col1\" >4.95</td>\n",
       "      <td id=\"T_7c090_row0_col2\" class=\"data row0 col2\" >22</td>\n",
       "      <td id=\"T_7c090_row0_col3\" class=\"data row0 col3\" >6.01</td>\n",
       "      <td id=\"T_7c090_row0_col4\" class=\"data row0 col4\" >19</td>\n",
       "      <td id=\"T_7c090_row0_col5\" class=\"data row0 col5\" >4.93</td>\n",
       "    </tr>\n",
       "    <tr>\n",
       "      <th id=\"T_7c090_level0_row1\" class=\"row_heading level0 row1\" >HQUS</th>\n",
       "      <td id=\"T_7c090_row1_col0\" class=\"data row1 col0\" >13</td>\n",
       "      <td id=\"T_7c090_row1_col1\" class=\"data row1 col1\" >3.08</td>\n",
       "      <td id=\"T_7c090_row1_col2\" class=\"data row1 col2\" >1</td>\n",
       "      <td id=\"T_7c090_row1_col3\" class=\"data row1 col3\" >0.20</td>\n",
       "      <td id=\"T_7c090_row1_col4\" class=\"data row1 col4\" >10</td>\n",
       "      <td id=\"T_7c090_row1_col5\" class=\"data row1 col5\" >2.25</td>\n",
       "    </tr>\n",
       "    <tr>\n",
       "      <th id=\"T_7c090_level0_row2\" class=\"row_heading level0 row2\" >Total</th>\n",
       "      <td id=\"T_7c090_row2_col0\" class=\"data row2 col0\" >30</td>\n",
       "      <td id=\"T_7c090_row2_col1\" class=\"data row2 col1\" >8.02</td>\n",
       "      <td id=\"T_7c090_row2_col2\" class=\"data row2 col2\" >23</td>\n",
       "      <td id=\"T_7c090_row2_col3\" class=\"data row2 col3\" >6.21</td>\n",
       "      <td id=\"T_7c090_row2_col4\" class=\"data row2 col4\" >29</td>\n",
       "      <td id=\"T_7c090_row2_col5\" class=\"data row2 col5\" >7.19</td>\n",
       "    </tr>\n",
       "  </tbody>\n",
       "</table>\n"
      ],
      "text/plain": [
       "<pandas.io.formats.style.Styler at 0x2de9e897a70>"
      ]
     },
     "execution_count": 6,
     "metadata": {},
     "output_type": "execute_result"
    }
   ],
   "source": [
    "observatories = [\"North\", \"Both\", \"South\"]\n",
    "sub_lists = proposal_targets[\"Group Category\"].unique()\n",
    "\n",
    "\n",
    "def Count(x):\n",
    "    return len(x)\n",
    "\n",
    "\n",
    "def Hours(x):\n",
    "    return np.sum(x) / 3600\n",
    "\n",
    "\n",
    "proposal_targets[\"Group Category\"] = [\n",
    "    f\"Faint ($V > {lower_mag_limit}$)\" if \"Faint\" in name else name for name in proposal_targets[\"Group Category\"]\n",
    "]\n",
    "\n",
    "grid = (\n",
    "    proposal_targets.pivot_table(\n",
    "        index=\"Group Category\",\n",
    "        columns=\"Observatory\",\n",
    "        values=exposure_time_field,\n",
    "        aggfunc=[Count, Hours],\n",
    "        fill_value=0,\n",
    "        observed=False,\n",
    "    )\n",
    "    .swaplevel(0, 1, axis=1)\n",
    "    .sort_index(axis=1, level=0)\n",
    ")\n",
    "grid.loc[\"Total\"] = grid.sum()\n",
    "\n",
    "formats = {\n",
    "    (\"South\", \"Count\"): \"{:.0f}\",\n",
    "    (\"Both\", \"Count\"): \"{:.0f}\",\n",
    "    (\"North\", \"Count\"): \"{:.0f}\",\n",
    "    (\"South\", \"Hours\"): \"{:.2f}\",\n",
    "    (\"Both\", \"Hours\"): \"{:.2f}\",\n",
    "    (\"North\", \"Hours\"): \"{:.2f}\",\n",
    "}\n",
    "\n",
    "foo = grid.style.format(formats)\n",
    "print(foo.to_latex())\n",
    "foo"
   ]
  },
  {
   "cell_type": "markdown",
   "metadata": {},
   "source": [
    "* Paste the above table into the Overleaf for the experimental design\n",
    "* For Phase 3, I just added the HQUS targets and their IQ85 exposure times, manually.\n",
    "  * Ideally, my code could create separate Phase 1/2 and Phase 3 lists using different IQ70/85 exposure times, but I didn't have time for that this time."
   ]
  }
 ],
 "metadata": {
  "kernelspec": {
   "display_name": "Python 3",
   "language": "python",
   "name": "python3"
  },
  "language_info": {
   "codemirror_mode": {
    "name": "ipython",
    "version": 3
   },
   "file_extension": ".py",
   "mimetype": "text/x-python",
   "name": "python",
   "nbconvert_exporter": "python",
   "pygments_lexer": "ipython3",
   "version": "3.12.6"
  }
 },
 "nbformat": 4,
 "nbformat_minor": 2
}
